{
  "nbformat": 4,
  "nbformat_minor": 0,
  "metadata": {
    "colab": {
      "name": "Panorama do COVID-19 no Brasil e no Mundo.ipynb",
      "provenance": [],
      "collapsed_sections": [],
      "toc_visible": true,
      "include_colab_link": true
    },
    "kernelspec": {
      "name": "python3",
      "display_name": "Python 3"
    }
  },
  "cells": [
    {
      "cell_type": "markdown",
      "metadata": {
        "id": "view-in-github",
        "colab_type": "text"
      },
      "source": [
        "<a href=\"https://colab.research.google.com/github/hiidenpelto/data_science/blob/master/Panorama_da_COVID_19_no_Brasil_e_no_Mundo.ipynb\" target=\"_parent\"><img src=\"https://colab.research.google.com/assets/colab-badge.svg\" alt=\"Open In Colab\"/></a>"
      ]
    },
    {
      "cell_type": "markdown",
      "metadata": {
        "id": "kLI0gJtzDGuQ",
        "colab_type": "text"
      },
      "source": [
        "# Dados da COVID-19 no Brasil e no Mundo\n",
        "\n",
        "Originado da China, o novo coronavírus se espalhou em uma velocidade surpreendente, alcançando todos os cantos do globo em poucos meses. Além da rápida propagação, o vírus se destacou por ser facilmente transmissível entre humanos e ter uma letalidade relativamente elevada.\n",
        "\n",
        "Cientistas ao redor do mundo inteiro estão tentando entender o vírus e correndo contra o tempo para desenvolverem uma vacina, possibilitando que a vida de todos volte ao normal.\n",
        "\n",
        "Isso pelo fato da enfermidade ter mudado a vida das pessoas em quase todos os países de uma forma nunca antes imaginada. Não só responsável por levar a óbito centenas de milhares de pessoas, provocou uma quarentena global e paralisou a atividade econômica.\n",
        "\n",
        "<center><img width=\"50%\" src=\"https://outraspalavras.net/wp-content/uploads/2020/03/200316-Covid19.jpeg\"></center>\n",
        "\n",
        "Dessa forma, torna-se essencial entender como o vírus vem se comportando no Brasil e no mundo, possibilitando aos cidadãos terem consciência da gravidade da pandemia. Através da Ciência de Dados, também é possível nortear a atuação dos gestores públicos para combaterem essa doença.\n",
        "\n",
        "Assim, realizarei uma análise de alguns dados públicos acerca do vírus."
      ]
    },
    {
      "cell_type": "markdown",
      "metadata": {
        "id": "0zxQHhIUDF_2",
        "colab_type": "text"
      },
      "source": [
        "## Obtenção dos Dados\n",
        "\n",
        "O presente *dataset* foi obtido no [Our World in Data](https://ourworldindata.org/coronavirus). Ele é atualizado diariamente e inclui dados de casos confirmados, mortes, testagem, dentre outras diversas variáveis relacionadas ao COVID-19.\n",
        "\n",
        "Os dados de casos confirmados e mortes são obtidos junto ao **Centro Europeu de Prevenção e Controle de Doenças**\n",
        "\n",
        "Já os dados de testes para detectar o novo coronavírus são coletados de relatórios oficiais e são atualizados por volta de duas vezes por semana.\n",
        "\n",
        "As demais variáveis são obtidas em variadas fontes, como a Organização das Nações Unidas, Banco Mundial, etc.\n",
        "\n",
        "Optou-se por trabalhar com o *dataset* do **Our World in Data** devido aos diversos conflitos existentes entre os dados dos governos federal, estaduais e os não oficiais. Assim, considerei ser melhor obter os dados junto a uma organização especializada na coleta e tratamento de dados que bebe de diversas fontes diferentes para construir o seu arcabouço de dados.\n",
        "\n",
        "### Dicionário de Variáveis\n",
        "O primeiro passo de toda análise de dados é descrever o que cada coluna presente no *dataset* significa. Isso é essencial para termos um primeiro contato com a base de dados e passar ao leitor o significado de cada variável.\n",
        "* `iso_code`: primeiras 3 letras do nome do país;\n",
        "* `continent`: continente da localização;\n",
        "* `location`: localização;\n",
        "* `date`: data da observação;\n",
        "* `total_cases`: total de casos confirmados;\n",
        "* `new_cases`: novos casos confirmados;\n",
        "* `total_deaths`: total de mortes;\n",
        "* `new_deaths`: novas mortes;\n",
        "* `total_cases_per_million`: total de casos confirmados por 1 milhão de habitantes;\n",
        "* `new_cases_per_million`: novos casos por 1 milhão de habitantes;\n",
        "* `total_deaths_per_million`: total de mortes por 1 milhão de habitantes;\n",
        "* `new_deaths_per_million`: novas mortes por 1 milhão de habitantes;\n",
        "* `total_tests`: total de testes;\n",
        "* `new_tests`: novos testes;\n",
        "* `new_tests_smoothed`: novos testes em uma janela de 7 dias;\n",
        "* `total_tests_per_thousand`: total de testes por mil habitantes;\n",
        "* `new_tests_per_thousand`: novos testes por mil habitantes;\n",
        "* `new_tests_smoothed_per_thousand`: novos testes em uma janela de 7 dias por mil habitantes;\n",
        "* `tests_units`: unidades utilizadas pelo país para reportar os dados de testes;\n",
        "* `stringency_index`: medida composta por 9 indicadores, incluindo fechamento de escolas, fechamento de locais de trabalho e proibição de viagens, escalada em valores de 0 a 100;\n",
        "* `population`: população em 2020;\n",
        "* `population_density`: número de pessoas divididas por quilômetro quadrado;\n",
        "* `median_age`: idade média da população em uma projeção das Nações Unidas para 2020;\n",
        "* `aged_65_older`: parcela da população de 65 anos de idade ou mais;\n",
        "* `aged_70_older`: parcela da população de 70 anos de idade ou mais;\n",
        "* `gdp_per_capita`: PIB dos países;\n",
        "* `extreme_poverty`: parcela da população vivendo em pobreza extrema;\n",
        "* `cvd_death_rate`: taxa de mortes por doenças cardiovasculares em 2017;\n",
        "* `diabetes_prevalence`: prevalência de diabetes (porcentagem da população entre 20 e 79 anos) em 2017;\n",
        "* `female_smokers`: parcela das mulheres que fumam;\n",
        "* `male_smokers`: parcela dos homens que fumam;\n",
        "* `handwashing_facilities`: parcela da população que possui meios básicos para lavar as mãos;\n",
        "* `hospital_beds_per_thousand`: número de leitos de hospitais por mil pessoas;\n",
        "* `life_expectancy`: expectativa de nascimento com vida no parto em 2019.\n",
        "\n",
        "    \n",
        "\n",
        "### Importando os dados do COVID-19\n",
        "Agora iremos importar as bibliotecas necessárias para realizarmos nossa análise e o *dataset* do [GitHub](https://github.com/owid/covid-19-data/tree/master/public/data). Ele já está no formato csv, então iremos importar diretamente do link."
      ]
    },
    {
      "cell_type": "code",
      "metadata": {
        "id": "lOtEJxe0DMEb",
        "colab_type": "code",
        "colab": {}
      },
      "source": [
        "# importar as bibliotecas necessárias\n",
        "import pandas as pd\n",
        "import matplotlib.pyplot as plt\n",
        "import seaborn as sns\n",
        "\n",
        "\n",
        "# importar o dataset COVID-19 para um DataaFrame\n",
        "df = pd.read_csv(\"https://covid.ourworldindata.org/data/owid-covid-data.csv\")"
      ],
      "execution_count": 63,
      "outputs": []
    },
    {
      "cell_type": "markdown",
      "metadata": {
        "id": "qb5By2nIMS6m",
        "colab_type": "text"
      },
      "source": [
        "## Análise Exploratória dos Dados\n",
        "\n",
        "Agora iniciaremos o que eu julgo ser a parte mais importante de todo projeto de ciência de dados: a análise exploratória dos dados. Com ela nós teremos um contato inicial com o *dataset*, vendo quais são os valores que estão inseridos nele, percebendo se existem valores nulos e se eles irão atrapalhar a análise, observando alguns dados estatísticos e extraindo *insigths* dos mesmos.\n"
      ]
    },
    {
      "cell_type": "markdown",
      "metadata": {
        "id": "__TfiNtiPPA6",
        "colab_type": "text"
      },
      "source": [
        "Vamos iniciar plotando as primeiras 5 entradas do nosso *dataset*."
      ]
    },
    {
      "cell_type": "code",
      "metadata": {
        "id": "gO1fv3D1PS4k",
        "colab_type": "code",
        "colab": {
          "base_uri": "https://localhost:8080/",
          "height": 309
        },
        "outputId": "c7d35606-c41e-4eaf-c960-7ab1cdbbf85b"
      },
      "source": [
        "# 5 primeiras entradas do dataset\n",
        "df.head()"
      ],
      "execution_count": null,
      "outputs": [
        {
          "output_type": "execute_result",
          "data": {
            "text/html": [
              "<div>\n",
              "<style scoped>\n",
              "    .dataframe tbody tr th:only-of-type {\n",
              "        vertical-align: middle;\n",
              "    }\n",
              "\n",
              "    .dataframe tbody tr th {\n",
              "        vertical-align: top;\n",
              "    }\n",
              "\n",
              "    .dataframe thead th {\n",
              "        text-align: right;\n",
              "    }\n",
              "</style>\n",
              "<table border=\"1\" class=\"dataframe\">\n",
              "  <thead>\n",
              "    <tr style=\"text-align: right;\">\n",
              "      <th></th>\n",
              "      <th>iso_code</th>\n",
              "      <th>continent</th>\n",
              "      <th>location</th>\n",
              "      <th>date</th>\n",
              "      <th>total_cases</th>\n",
              "      <th>new_cases</th>\n",
              "      <th>total_deaths</th>\n",
              "      <th>new_deaths</th>\n",
              "      <th>total_cases_per_million</th>\n",
              "      <th>new_cases_per_million</th>\n",
              "      <th>total_deaths_per_million</th>\n",
              "      <th>new_deaths_per_million</th>\n",
              "      <th>total_tests</th>\n",
              "      <th>new_tests</th>\n",
              "      <th>total_tests_per_thousand</th>\n",
              "      <th>new_tests_per_thousand</th>\n",
              "      <th>new_tests_smoothed</th>\n",
              "      <th>new_tests_smoothed_per_thousand</th>\n",
              "      <th>tests_units</th>\n",
              "      <th>stringency_index</th>\n",
              "      <th>population</th>\n",
              "      <th>population_density</th>\n",
              "      <th>median_age</th>\n",
              "      <th>aged_65_older</th>\n",
              "      <th>aged_70_older</th>\n",
              "      <th>gdp_per_capita</th>\n",
              "      <th>extreme_poverty</th>\n",
              "      <th>cvd_death_rate</th>\n",
              "      <th>diabetes_prevalence</th>\n",
              "      <th>female_smokers</th>\n",
              "      <th>male_smokers</th>\n",
              "      <th>handwashing_facilities</th>\n",
              "      <th>hospital_beds_per_thousand</th>\n",
              "      <th>life_expectancy</th>\n",
              "    </tr>\n",
              "  </thead>\n",
              "  <tbody>\n",
              "    <tr>\n",
              "      <th>0</th>\n",
              "      <td>AFG</td>\n",
              "      <td>Asia</td>\n",
              "      <td>Afghanistan</td>\n",
              "      <td>2019-12-31</td>\n",
              "      <td>0.0</td>\n",
              "      <td>0.0</td>\n",
              "      <td>0.0</td>\n",
              "      <td>0.0</td>\n",
              "      <td>0.0</td>\n",
              "      <td>0.0</td>\n",
              "      <td>0.0</td>\n",
              "      <td>0.0</td>\n",
              "      <td>NaN</td>\n",
              "      <td>NaN</td>\n",
              "      <td>NaN</td>\n",
              "      <td>NaN</td>\n",
              "      <td>NaN</td>\n",
              "      <td>NaN</td>\n",
              "      <td>NaN</td>\n",
              "      <td>NaN</td>\n",
              "      <td>38928341.0</td>\n",
              "      <td>54.422</td>\n",
              "      <td>18.6</td>\n",
              "      <td>2.581</td>\n",
              "      <td>1.337</td>\n",
              "      <td>1803.987</td>\n",
              "      <td>NaN</td>\n",
              "      <td>597.029</td>\n",
              "      <td>9.59</td>\n",
              "      <td>NaN</td>\n",
              "      <td>NaN</td>\n",
              "      <td>37.746</td>\n",
              "      <td>0.5</td>\n",
              "      <td>64.83</td>\n",
              "    </tr>\n",
              "    <tr>\n",
              "      <th>1</th>\n",
              "      <td>AFG</td>\n",
              "      <td>Asia</td>\n",
              "      <td>Afghanistan</td>\n",
              "      <td>2020-01-01</td>\n",
              "      <td>0.0</td>\n",
              "      <td>0.0</td>\n",
              "      <td>0.0</td>\n",
              "      <td>0.0</td>\n",
              "      <td>0.0</td>\n",
              "      <td>0.0</td>\n",
              "      <td>0.0</td>\n",
              "      <td>0.0</td>\n",
              "      <td>NaN</td>\n",
              "      <td>NaN</td>\n",
              "      <td>NaN</td>\n",
              "      <td>NaN</td>\n",
              "      <td>NaN</td>\n",
              "      <td>NaN</td>\n",
              "      <td>NaN</td>\n",
              "      <td>0.0</td>\n",
              "      <td>38928341.0</td>\n",
              "      <td>54.422</td>\n",
              "      <td>18.6</td>\n",
              "      <td>2.581</td>\n",
              "      <td>1.337</td>\n",
              "      <td>1803.987</td>\n",
              "      <td>NaN</td>\n",
              "      <td>597.029</td>\n",
              "      <td>9.59</td>\n",
              "      <td>NaN</td>\n",
              "      <td>NaN</td>\n",
              "      <td>37.746</td>\n",
              "      <td>0.5</td>\n",
              "      <td>64.83</td>\n",
              "    </tr>\n",
              "    <tr>\n",
              "      <th>2</th>\n",
              "      <td>AFG</td>\n",
              "      <td>Asia</td>\n",
              "      <td>Afghanistan</td>\n",
              "      <td>2020-01-02</td>\n",
              "      <td>0.0</td>\n",
              "      <td>0.0</td>\n",
              "      <td>0.0</td>\n",
              "      <td>0.0</td>\n",
              "      <td>0.0</td>\n",
              "      <td>0.0</td>\n",
              "      <td>0.0</td>\n",
              "      <td>0.0</td>\n",
              "      <td>NaN</td>\n",
              "      <td>NaN</td>\n",
              "      <td>NaN</td>\n",
              "      <td>NaN</td>\n",
              "      <td>NaN</td>\n",
              "      <td>NaN</td>\n",
              "      <td>NaN</td>\n",
              "      <td>0.0</td>\n",
              "      <td>38928341.0</td>\n",
              "      <td>54.422</td>\n",
              "      <td>18.6</td>\n",
              "      <td>2.581</td>\n",
              "      <td>1.337</td>\n",
              "      <td>1803.987</td>\n",
              "      <td>NaN</td>\n",
              "      <td>597.029</td>\n",
              "      <td>9.59</td>\n",
              "      <td>NaN</td>\n",
              "      <td>NaN</td>\n",
              "      <td>37.746</td>\n",
              "      <td>0.5</td>\n",
              "      <td>64.83</td>\n",
              "    </tr>\n",
              "    <tr>\n",
              "      <th>3</th>\n",
              "      <td>AFG</td>\n",
              "      <td>Asia</td>\n",
              "      <td>Afghanistan</td>\n",
              "      <td>2020-01-03</td>\n",
              "      <td>0.0</td>\n",
              "      <td>0.0</td>\n",
              "      <td>0.0</td>\n",
              "      <td>0.0</td>\n",
              "      <td>0.0</td>\n",
              "      <td>0.0</td>\n",
              "      <td>0.0</td>\n",
              "      <td>0.0</td>\n",
              "      <td>NaN</td>\n",
              "      <td>NaN</td>\n",
              "      <td>NaN</td>\n",
              "      <td>NaN</td>\n",
              "      <td>NaN</td>\n",
              "      <td>NaN</td>\n",
              "      <td>NaN</td>\n",
              "      <td>0.0</td>\n",
              "      <td>38928341.0</td>\n",
              "      <td>54.422</td>\n",
              "      <td>18.6</td>\n",
              "      <td>2.581</td>\n",
              "      <td>1.337</td>\n",
              "      <td>1803.987</td>\n",
              "      <td>NaN</td>\n",
              "      <td>597.029</td>\n",
              "      <td>9.59</td>\n",
              "      <td>NaN</td>\n",
              "      <td>NaN</td>\n",
              "      <td>37.746</td>\n",
              "      <td>0.5</td>\n",
              "      <td>64.83</td>\n",
              "    </tr>\n",
              "    <tr>\n",
              "      <th>4</th>\n",
              "      <td>AFG</td>\n",
              "      <td>Asia</td>\n",
              "      <td>Afghanistan</td>\n",
              "      <td>2020-01-04</td>\n",
              "      <td>0.0</td>\n",
              "      <td>0.0</td>\n",
              "      <td>0.0</td>\n",
              "      <td>0.0</td>\n",
              "      <td>0.0</td>\n",
              "      <td>0.0</td>\n",
              "      <td>0.0</td>\n",
              "      <td>0.0</td>\n",
              "      <td>NaN</td>\n",
              "      <td>NaN</td>\n",
              "      <td>NaN</td>\n",
              "      <td>NaN</td>\n",
              "      <td>NaN</td>\n",
              "      <td>NaN</td>\n",
              "      <td>NaN</td>\n",
              "      <td>0.0</td>\n",
              "      <td>38928341.0</td>\n",
              "      <td>54.422</td>\n",
              "      <td>18.6</td>\n",
              "      <td>2.581</td>\n",
              "      <td>1.337</td>\n",
              "      <td>1803.987</td>\n",
              "      <td>NaN</td>\n",
              "      <td>597.029</td>\n",
              "      <td>9.59</td>\n",
              "      <td>NaN</td>\n",
              "      <td>NaN</td>\n",
              "      <td>37.746</td>\n",
              "      <td>0.5</td>\n",
              "      <td>64.83</td>\n",
              "    </tr>\n",
              "  </tbody>\n",
              "</table>\n",
              "</div>"
            ],
            "text/plain": [
              "  iso_code continent  ... hospital_beds_per_thousand life_expectancy\n",
              "0      AFG      Asia  ...                        0.5           64.83\n",
              "1      AFG      Asia  ...                        0.5           64.83\n",
              "2      AFG      Asia  ...                        0.5           64.83\n",
              "3      AFG      Asia  ...                        0.5           64.83\n",
              "4      AFG      Asia  ...                        0.5           64.83\n",
              "\n",
              "[5 rows x 34 columns]"
            ]
          },
          "metadata": {
            "tags": []
          },
          "execution_count": 2
        }
      ]
    },
    {
      "cell_type": "markdown",
      "metadata": {
        "id": "un0xwhMChqK_",
        "colab_type": "text"
      },
      "source": [
        "Vemos pelas 5 primeiras entradas que no Afeganistão, assim como na maioria dos países, no início do ano de 2020 não havia qualquer caso registrado do novo coronavírus. No Brasil, por exemplo, o primeiro caso foi detectado somente em fevereiro."
      ]
    },
    {
      "cell_type": "markdown",
      "metadata": {
        "id": "ggHKV6aLieLF",
        "colab_type": "text"
      },
      "source": [
        "Agora analisaremos o tamanho total do nosso *dataset*."
      ]
    },
    {
      "cell_type": "code",
      "metadata": {
        "id": "wCwEzL5mipry",
        "colab_type": "code",
        "colab": {
          "base_uri": "https://localhost:8080/",
          "height": 52
        },
        "outputId": "17ec028b-2de5-4a71-c631-d20897d7290e"
      },
      "source": [
        "# tamanho do dataset\n",
        "print(\"Variáveis: \", df.shape[1])\n",
        "print(\"Entradas: \", df.shape[0])\n"
      ],
      "execution_count": null,
      "outputs": [
        {
          "output_type": "stream",
          "text": [
            "Variáveis:  34\n",
            "Entradas:  25924\n"
          ],
          "name": "stdout"
        }
      ]
    },
    {
      "cell_type": "markdown",
      "metadata": {
        "id": "r5dUlT9Mi0dy",
        "colab_type": "text"
      },
      "source": [
        "O tamanho desse *dataset* é bastante significativo. São 34 colunas e 25924 entradas; certamente possibilitará a obtenção de um panorama bastante amplo de como o vírus vem se comportando no mundo."
      ]
    },
    {
      "cell_type": "markdown",
      "metadata": {
        "id": "WPzPhEOSkH7M",
        "colab_type": "text"
      },
      "source": [
        "O próximo passo é sabermos quais são os tipos de variáveis existentes."
      ]
    },
    {
      "cell_type": "code",
      "metadata": {
        "id": "qVlgLdAvkQdx",
        "colab_type": "code",
        "colab": {
          "base_uri": "https://localhost:8080/",
          "height": 624
        },
        "outputId": "bb2b52d6-7a14-44a1-fd7a-1cab45f21e63"
      },
      "source": [
        "# ver os tipos de variáveis\n",
        "df.dtypes"
      ],
      "execution_count": null,
      "outputs": [
        {
          "output_type": "execute_result",
          "data": {
            "text/plain": [
              "iso_code                            object\n",
              "continent                           object\n",
              "location                            object\n",
              "date                                object\n",
              "total_cases                        float64\n",
              "new_cases                          float64\n",
              "total_deaths                       float64\n",
              "new_deaths                         float64\n",
              "total_cases_per_million            float64\n",
              "new_cases_per_million              float64\n",
              "total_deaths_per_million           float64\n",
              "new_deaths_per_million             float64\n",
              "total_tests                        float64\n",
              "new_tests                          float64\n",
              "total_tests_per_thousand           float64\n",
              "new_tests_per_thousand             float64\n",
              "new_tests_smoothed                 float64\n",
              "new_tests_smoothed_per_thousand    float64\n",
              "tests_units                         object\n",
              "stringency_index                   float64\n",
              "population                         float64\n",
              "population_density                 float64\n",
              "median_age                         float64\n",
              "aged_65_older                      float64\n",
              "aged_70_older                      float64\n",
              "gdp_per_capita                     float64\n",
              "extreme_poverty                    float64\n",
              "cvd_death_rate                     float64\n",
              "diabetes_prevalence                float64\n",
              "female_smokers                     float64\n",
              "male_smokers                       float64\n",
              "handwashing_facilities             float64\n",
              "hospital_beds_per_thousand         float64\n",
              "life_expectancy                    float64\n",
              "dtype: object"
            ]
          },
          "metadata": {
            "tags": []
          },
          "execution_count": 5
        }
      ]
    },
    {
      "cell_type": "markdown",
      "metadata": {
        "id": "t9WrpQxmkhGf",
        "colab_type": "text"
      },
      "source": [
        "Vemos variáveis do tipo `float` e `object` apenas. De início já percebemos um pequeno problema, pelo fato da variável `data` estar no tipo `object`. Para podermos manipulá-la adequadamente, iremos precisar convertê-la para o formato `datetime`."
      ]
    },
    {
      "cell_type": "code",
      "metadata": {
        "id": "bZjITdUslSa0",
        "colab_type": "code",
        "colab": {}
      },
      "source": [
        "# converter a coluna 'date' para o formato datetime\n",
        "df.date = pd.to_datetime(df.date, format=\"%Y-%m-%d\")"
      ],
      "execution_count": 64,
      "outputs": []
    },
    {
      "cell_type": "markdown",
      "metadata": {
        "id": "OAAxMAY8mdff",
        "colab_type": "text"
      },
      "source": [
        "Um ponto extremamente importante na análise exploratória é identificar quais são os valores ausentes e quantidade deles presente no *dataset*."
      ]
    },
    {
      "cell_type": "code",
      "metadata": {
        "id": "Aylw12GomsCx",
        "colab_type": "code",
        "colab": {
          "base_uri": "https://localhost:8080/",
          "height": 624
        },
        "outputId": "fbe2cb85-1567-4672-9209-439b5a475f38"
      },
      "source": [
        "# porcentagem de valores ausentes, em ordem decrescente\n",
        "(df.isnull().sum() / df.shape[0]).sort_values(ascending=False)"
      ],
      "execution_count": null,
      "outputs": [
        {
          "output_type": "execute_result",
          "data": {
            "text/plain": [
              "new_tests                          0.742979\n",
              "new_tests_per_thousand             0.742979\n",
              "total_tests_per_thousand           0.717250\n",
              "total_tests                        0.717250\n",
              "new_tests_smoothed_per_thousand    0.695225\n",
              "new_tests_smoothed                 0.695225\n",
              "tests_units                        0.671154\n",
              "handwashing_facilities             0.593658\n",
              "extreme_poverty                    0.402909\n",
              "male_smokers                       0.282287\n",
              "female_smokers                     0.273955\n",
              "stringency_index                   0.198928\n",
              "hospital_beds_per_thousand         0.172273\n",
              "aged_65_older                      0.108664\n",
              "gdp_per_capita                     0.106041\n",
              "aged_70_older                      0.100563\n",
              "median_age                         0.095934\n",
              "cvd_death_rate                     0.095356\n",
              "diabetes_prevalence                0.065615\n",
              "population_density                 0.043242\n",
              "life_expectancy                    0.013848\n",
              "new_deaths_per_million             0.011341\n",
              "total_deaths_per_million           0.011341\n",
              "new_cases_per_million              0.011341\n",
              "total_cases_per_million            0.011341\n",
              "continent                          0.009296\n",
              "new_deaths                         0.008872\n",
              "total_deaths                       0.008872\n",
              "new_cases                          0.008872\n",
              "total_cases                        0.008872\n",
              "population                         0.002469\n",
              "iso_code                           0.002469\n",
              "date                               0.000000\n",
              "location                           0.000000\n",
              "dtype: float64"
            ]
          },
          "metadata": {
            "tags": []
          },
          "execution_count": 16
        }
      ]
    },
    {
      "cell_type": "markdown",
      "metadata": {
        "id": "XnECzhXZ_Vm4",
        "colab_type": "text"
      },
      "source": [
        "É gritante a enorme quantidade de valores ausentes presentes em algumas variáveis. Temos colunas que possuem quase 75% dos valores ausentes. Vamos deixar elas assim por enquanto; caso elas enviesem nossas próximas análises poderemos modificá-las ou até mesmo excluí-las."
      ]
    },
    {
      "cell_type": "markdown",
      "metadata": {
        "id": "jnap9S2ujlZG",
        "colab_type": "text"
      },
      "source": [
        "## Análise Estatística e Gráfica\n",
        "\n",
        "Concluída a análise exploratória, iniciaremos a exploração do nosso *dataset* pelo ângulo estatístico e plotaremos alguns gráficos para melhor visualizarmos o comportamento do vírus em alguns países."
      ]
    },
    {
      "cell_type": "markdown",
      "metadata": {
        "id": "KyAIqrTQA0br",
        "colab_type": "text"
      },
      "source": [
        "O primeiro passo é ver qual país possui o maior número de casos e mortes provocadas pelo novo coronavírus.\n",
        "\n",
        "Para isso selecionaremos a última data do nosso DataFrame (24/06/2020) por possuir o valor mais atualizado de casos totais.\n",
        "\n",
        "Em seguida ordenaremos a lista pela ordem decrescente do valor de casos totais. Como o primeiro item da lista é o número de casos computados no mundo inteiro, selecionaremos a partir da segunda entrada."
      ]
    },
    {
      "cell_type": "code",
      "metadata": {
        "id": "jfqdNYuaBKwf",
        "colab_type": "code",
        "colab": {
          "base_uri": "https://localhost:8080/",
          "height": 678
        },
        "outputId": "252af2a5-20dd-4049-be9d-79c559f03e42"
      },
      "source": [
        "# países com o maior número de casos\n",
        "df.loc[df.date == \"2020-06-24\"].sort_values(by=\"total_cases\", ascending=False)[1:]"
      ],
      "execution_count": 83,
      "outputs": [
        {
          "output_type": "execute_result",
          "data": {
            "text/html": [
              "<div>\n",
              "<style scoped>\n",
              "    .dataframe tbody tr th:only-of-type {\n",
              "        vertical-align: middle;\n",
              "    }\n",
              "\n",
              "    .dataframe tbody tr th {\n",
              "        vertical-align: top;\n",
              "    }\n",
              "\n",
              "    .dataframe thead th {\n",
              "        text-align: right;\n",
              "    }\n",
              "</style>\n",
              "<table border=\"1\" class=\"dataframe\">\n",
              "  <thead>\n",
              "    <tr style=\"text-align: right;\">\n",
              "      <th></th>\n",
              "      <th>iso_code</th>\n",
              "      <th>continent</th>\n",
              "      <th>location</th>\n",
              "      <th>date</th>\n",
              "      <th>total_cases</th>\n",
              "      <th>new_cases</th>\n",
              "      <th>total_deaths</th>\n",
              "      <th>new_deaths</th>\n",
              "      <th>total_cases_per_million</th>\n",
              "      <th>new_cases_per_million</th>\n",
              "      <th>total_deaths_per_million</th>\n",
              "      <th>new_deaths_per_million</th>\n",
              "      <th>total_tests</th>\n",
              "      <th>new_tests</th>\n",
              "      <th>total_tests_per_thousand</th>\n",
              "      <th>new_tests_per_thousand</th>\n",
              "      <th>new_tests_smoothed</th>\n",
              "      <th>new_tests_smoothed_per_thousand</th>\n",
              "      <th>tests_units</th>\n",
              "      <th>stringency_index</th>\n",
              "      <th>population</th>\n",
              "      <th>population_density</th>\n",
              "      <th>median_age</th>\n",
              "      <th>aged_65_older</th>\n",
              "      <th>aged_70_older</th>\n",
              "      <th>gdp_per_capita</th>\n",
              "      <th>extreme_poverty</th>\n",
              "      <th>cvd_death_rate</th>\n",
              "      <th>diabetes_prevalence</th>\n",
              "      <th>female_smokers</th>\n",
              "      <th>male_smokers</th>\n",
              "      <th>handwashing_facilities</th>\n",
              "      <th>hospital_beds_per_thousand</th>\n",
              "      <th>life_expectancy</th>\n",
              "    </tr>\n",
              "  </thead>\n",
              "  <tbody>\n",
              "    <tr>\n",
              "      <th>25256</th>\n",
              "      <td>USA</td>\n",
              "      <td>North America</td>\n",
              "      <td>United States</td>\n",
              "      <td>2020-06-24</td>\n",
              "      <td>2347022.0</td>\n",
              "      <td>34720.0</td>\n",
              "      <td>121228.0</td>\n",
              "      <td>826.0</td>\n",
              "      <td>7090.644</td>\n",
              "      <td>104.893</td>\n",
              "      <td>366.245</td>\n",
              "      <td>2.495</td>\n",
              "      <td>28570233.0</td>\n",
              "      <td>512428.0</td>\n",
              "      <td>86.314</td>\n",
              "      <td>1.548</td>\n",
              "      <td>520898.0</td>\n",
              "      <td>1.574</td>\n",
              "      <td>units unclear</td>\n",
              "      <td>68.98</td>\n",
              "      <td>3.310026e+08</td>\n",
              "      <td>35.608</td>\n",
              "      <td>38.3</td>\n",
              "      <td>15.413</td>\n",
              "      <td>9.732</td>\n",
              "      <td>54225.446</td>\n",
              "      <td>1.2</td>\n",
              "      <td>151.089</td>\n",
              "      <td>10.79</td>\n",
              "      <td>19.1</td>\n",
              "      <td>24.6</td>\n",
              "      <td>NaN</td>\n",
              "      <td>2.77</td>\n",
              "      <td>78.86</td>\n",
              "    </tr>\n",
              "    <tr>\n",
              "      <th>3597</th>\n",
              "      <td>BRA</td>\n",
              "      <td>South America</td>\n",
              "      <td>Brazil</td>\n",
              "      <td>2020-06-24</td>\n",
              "      <td>1145906.0</td>\n",
              "      <td>39436.0</td>\n",
              "      <td>52645.0</td>\n",
              "      <td>1374.0</td>\n",
              "      <td>5390.992</td>\n",
              "      <td>185.529</td>\n",
              "      <td>247.672</td>\n",
              "      <td>6.464</td>\n",
              "      <td>NaN</td>\n",
              "      <td>NaN</td>\n",
              "      <td>NaN</td>\n",
              "      <td>NaN</td>\n",
              "      <td>NaN</td>\n",
              "      <td>NaN</td>\n",
              "      <td>NaN</td>\n",
              "      <td>NaN</td>\n",
              "      <td>2.125594e+08</td>\n",
              "      <td>25.040</td>\n",
              "      <td>33.5</td>\n",
              "      <td>8.552</td>\n",
              "      <td>5.060</td>\n",
              "      <td>14103.452</td>\n",
              "      <td>3.4</td>\n",
              "      <td>177.961</td>\n",
              "      <td>8.11</td>\n",
              "      <td>10.1</td>\n",
              "      <td>17.9</td>\n",
              "      <td>NaN</td>\n",
              "      <td>2.20</td>\n",
              "      <td>75.88</td>\n",
              "    </tr>\n",
              "    <tr>\n",
              "      <th>20042</th>\n",
              "      <td>RUS</td>\n",
              "      <td>Europe</td>\n",
              "      <td>Russia</td>\n",
              "      <td>2020-06-24</td>\n",
              "      <td>599705.0</td>\n",
              "      <td>7425.0</td>\n",
              "      <td>8359.0</td>\n",
              "      <td>153.0</td>\n",
              "      <td>4109.413</td>\n",
              "      <td>50.879</td>\n",
              "      <td>57.279</td>\n",
              "      <td>1.048</td>\n",
              "      <td>17803955.0</td>\n",
              "      <td>281203.0</td>\n",
              "      <td>122.000</td>\n",
              "      <td>1.927</td>\n",
              "      <td>303462.0</td>\n",
              "      <td>2.079</td>\n",
              "      <td>tests performed</td>\n",
              "      <td>NaN</td>\n",
              "      <td>1.459345e+08</td>\n",
              "      <td>8.823</td>\n",
              "      <td>39.6</td>\n",
              "      <td>14.178</td>\n",
              "      <td>9.393</td>\n",
              "      <td>24765.954</td>\n",
              "      <td>0.1</td>\n",
              "      <td>431.297</td>\n",
              "      <td>6.18</td>\n",
              "      <td>23.4</td>\n",
              "      <td>58.3</td>\n",
              "      <td>NaN</td>\n",
              "      <td>8.05</td>\n",
              "      <td>72.58</td>\n",
              "    </tr>\n",
              "    <tr>\n",
              "      <th>11210</th>\n",
              "      <td>IND</td>\n",
              "      <td>Asia</td>\n",
              "      <td>India</td>\n",
              "      <td>2020-06-24</td>\n",
              "      <td>456183.0</td>\n",
              "      <td>15968.0</td>\n",
              "      <td>14476.0</td>\n",
              "      <td>465.0</td>\n",
              "      <td>330.566</td>\n",
              "      <td>11.571</td>\n",
              "      <td>10.490</td>\n",
              "      <td>0.337</td>\n",
              "      <td>7352911.0</td>\n",
              "      <td>215195.0</td>\n",
              "      <td>5.328</td>\n",
              "      <td>0.156</td>\n",
              "      <td>181236.0</td>\n",
              "      <td>0.131</td>\n",
              "      <td>samples tested</td>\n",
              "      <td>NaN</td>\n",
              "      <td>1.380004e+09</td>\n",
              "      <td>450.419</td>\n",
              "      <td>28.2</td>\n",
              "      <td>5.989</td>\n",
              "      <td>3.414</td>\n",
              "      <td>6426.674</td>\n",
              "      <td>21.2</td>\n",
              "      <td>282.280</td>\n",
              "      <td>10.39</td>\n",
              "      <td>1.9</td>\n",
              "      <td>20.6</td>\n",
              "      <td>59.55</td>\n",
              "      <td>0.53</td>\n",
              "      <td>69.66</td>\n",
              "    </tr>\n",
              "    <tr>\n",
              "      <th>25076</th>\n",
              "      <td>GBR</td>\n",
              "      <td>Europe</td>\n",
              "      <td>United Kingdom</td>\n",
              "      <td>2020-06-24</td>\n",
              "      <td>306210.0</td>\n",
              "      <td>921.0</td>\n",
              "      <td>42927.0</td>\n",
              "      <td>280.0</td>\n",
              "      <td>4510.650</td>\n",
              "      <td>13.567</td>\n",
              "      <td>632.339</td>\n",
              "      <td>4.125</td>\n",
              "      <td>4537055.0</td>\n",
              "      <td>76026.0</td>\n",
              "      <td>66.833</td>\n",
              "      <td>1.120</td>\n",
              "      <td>62391.0</td>\n",
              "      <td>0.919</td>\n",
              "      <td>tests performed</td>\n",
              "      <td>NaN</td>\n",
              "      <td>6.788600e+07</td>\n",
              "      <td>272.898</td>\n",
              "      <td>40.8</td>\n",
              "      <td>18.517</td>\n",
              "      <td>12.527</td>\n",
              "      <td>39753.244</td>\n",
              "      <td>0.2</td>\n",
              "      <td>122.137</td>\n",
              "      <td>4.28</td>\n",
              "      <td>20.0</td>\n",
              "      <td>24.7</td>\n",
              "      <td>NaN</td>\n",
              "      <td>2.54</td>\n",
              "      <td>81.32</td>\n",
              "    </tr>\n",
              "    <tr>\n",
              "      <th>...</th>\n",
              "      <td>...</td>\n",
              "      <td>...</td>\n",
              "      <td>...</td>\n",
              "      <td>...</td>\n",
              "      <td>...</td>\n",
              "      <td>...</td>\n",
              "      <td>...</td>\n",
              "      <td>...</td>\n",
              "      <td>...</td>\n",
              "      <td>...</td>\n",
              "      <td>...</td>\n",
              "      <td>...</td>\n",
              "      <td>...</td>\n",
              "      <td>...</td>\n",
              "      <td>...</td>\n",
              "      <td>...</td>\n",
              "      <td>...</td>\n",
              "      <td>...</td>\n",
              "      <td>...</td>\n",
              "      <td>...</td>\n",
              "      <td>...</td>\n",
              "      <td>...</td>\n",
              "      <td>...</td>\n",
              "      <td>...</td>\n",
              "      <td>...</td>\n",
              "      <td>...</td>\n",
              "      <td>...</td>\n",
              "      <td>...</td>\n",
              "      <td>...</td>\n",
              "      <td>...</td>\n",
              "      <td>...</td>\n",
              "      <td>...</td>\n",
              "      <td>...</td>\n",
              "      <td>...</td>\n",
              "    </tr>\n",
              "    <tr>\n",
              "      <th>21161</th>\n",
              "      <td>SYC</td>\n",
              "      <td>Africa</td>\n",
              "      <td>Seychelles</td>\n",
              "      <td>2020-06-24</td>\n",
              "      <td>11.0</td>\n",
              "      <td>0.0</td>\n",
              "      <td>0.0</td>\n",
              "      <td>0.0</td>\n",
              "      <td>111.857</td>\n",
              "      <td>0.000</td>\n",
              "      <td>0.000</td>\n",
              "      <td>0.000</td>\n",
              "      <td>NaN</td>\n",
              "      <td>NaN</td>\n",
              "      <td>NaN</td>\n",
              "      <td>NaN</td>\n",
              "      <td>NaN</td>\n",
              "      <td>NaN</td>\n",
              "      <td>NaN</td>\n",
              "      <td>33.33</td>\n",
              "      <td>9.834000e+04</td>\n",
              "      <td>208.354</td>\n",
              "      <td>36.2</td>\n",
              "      <td>8.606</td>\n",
              "      <td>5.586</td>\n",
              "      <td>26382.287</td>\n",
              "      <td>1.1</td>\n",
              "      <td>242.648</td>\n",
              "      <td>10.55</td>\n",
              "      <td>7.1</td>\n",
              "      <td>35.7</td>\n",
              "      <td>NaN</td>\n",
              "      <td>3.60</td>\n",
              "      <td>73.40</td>\n",
              "    </tr>\n",
              "    <tr>\n",
              "      <th>18777</th>\n",
              "      <td>PNG</td>\n",
              "      <td>Oceania</td>\n",
              "      <td>Papua New Guinea</td>\n",
              "      <td>2020-06-24</td>\n",
              "      <td>9.0</td>\n",
              "      <td>0.0</td>\n",
              "      <td>0.0</td>\n",
              "      <td>0.0</td>\n",
              "      <td>1.006</td>\n",
              "      <td>0.000</td>\n",
              "      <td>0.000</td>\n",
              "      <td>0.000</td>\n",
              "      <td>NaN</td>\n",
              "      <td>NaN</td>\n",
              "      <td>NaN</td>\n",
              "      <td>NaN</td>\n",
              "      <td>NaN</td>\n",
              "      <td>NaN</td>\n",
              "      <td>NaN</td>\n",
              "      <td>NaN</td>\n",
              "      <td>8.947027e+06</td>\n",
              "      <td>18.220</td>\n",
              "      <td>22.6</td>\n",
              "      <td>3.808</td>\n",
              "      <td>2.142</td>\n",
              "      <td>3823.194</td>\n",
              "      <td>NaN</td>\n",
              "      <td>561.494</td>\n",
              "      <td>17.65</td>\n",
              "      <td>23.5</td>\n",
              "      <td>48.8</td>\n",
              "      <td>NaN</td>\n",
              "      <td>NaN</td>\n",
              "      <td>64.50</td>\n",
              "    </tr>\n",
              "    <tr>\n",
              "      <th>3690</th>\n",
              "      <td>VGB</td>\n",
              "      <td>North America</td>\n",
              "      <td>British Virgin Islands</td>\n",
              "      <td>2020-06-24</td>\n",
              "      <td>8.0</td>\n",
              "      <td>0.0</td>\n",
              "      <td>1.0</td>\n",
              "      <td>0.0</td>\n",
              "      <td>264.577</td>\n",
              "      <td>0.000</td>\n",
              "      <td>33.072</td>\n",
              "      <td>0.000</td>\n",
              "      <td>NaN</td>\n",
              "      <td>NaN</td>\n",
              "      <td>NaN</td>\n",
              "      <td>NaN</td>\n",
              "      <td>NaN</td>\n",
              "      <td>NaN</td>\n",
              "      <td>NaN</td>\n",
              "      <td>NaN</td>\n",
              "      <td>3.023700e+04</td>\n",
              "      <td>207.973</td>\n",
              "      <td>NaN</td>\n",
              "      <td>NaN</td>\n",
              "      <td>NaN</td>\n",
              "      <td>NaN</td>\n",
              "      <td>NaN</td>\n",
              "      <td>NaN</td>\n",
              "      <td>13.67</td>\n",
              "      <td>NaN</td>\n",
              "      <td>NaN</td>\n",
              "      <td>NaN</td>\n",
              "      <td>NaN</td>\n",
              "      <td>79.07</td>\n",
              "    </tr>\n",
              "    <tr>\n",
              "      <th>3222</th>\n",
              "      <td>BES</td>\n",
              "      <td>North America</td>\n",
              "      <td>Bonaire Sint Eustatius and Saba</td>\n",
              "      <td>2020-06-24</td>\n",
              "      <td>7.0</td>\n",
              "      <td>0.0</td>\n",
              "      <td>0.0</td>\n",
              "      <td>0.0</td>\n",
              "      <td>266.962</td>\n",
              "      <td>0.000</td>\n",
              "      <td>0.000</td>\n",
              "      <td>0.000</td>\n",
              "      <td>NaN</td>\n",
              "      <td>NaN</td>\n",
              "      <td>NaN</td>\n",
              "      <td>NaN</td>\n",
              "      <td>NaN</td>\n",
              "      <td>NaN</td>\n",
              "      <td>NaN</td>\n",
              "      <td>NaN</td>\n",
              "      <td>2.622100e+04</td>\n",
              "      <td>NaN</td>\n",
              "      <td>NaN</td>\n",
              "      <td>NaN</td>\n",
              "      <td>NaN</td>\n",
              "      <td>NaN</td>\n",
              "      <td>NaN</td>\n",
              "      <td>NaN</td>\n",
              "      <td>NaN</td>\n",
              "      <td>NaN</td>\n",
              "      <td>NaN</td>\n",
              "      <td>NaN</td>\n",
              "      <td>NaN</td>\n",
              "      <td>77.79</td>\n",
              "    </tr>\n",
              "    <tr>\n",
              "      <th>749</th>\n",
              "      <td>AIA</td>\n",
              "      <td>North America</td>\n",
              "      <td>Anguilla</td>\n",
              "      <td>2020-06-24</td>\n",
              "      <td>3.0</td>\n",
              "      <td>0.0</td>\n",
              "      <td>0.0</td>\n",
              "      <td>0.0</td>\n",
              "      <td>199.973</td>\n",
              "      <td>0.000</td>\n",
              "      <td>0.000</td>\n",
              "      <td>0.000</td>\n",
              "      <td>NaN</td>\n",
              "      <td>NaN</td>\n",
              "      <td>NaN</td>\n",
              "      <td>NaN</td>\n",
              "      <td>NaN</td>\n",
              "      <td>NaN</td>\n",
              "      <td>NaN</td>\n",
              "      <td>NaN</td>\n",
              "      <td>1.500200e+04</td>\n",
              "      <td>NaN</td>\n",
              "      <td>NaN</td>\n",
              "      <td>NaN</td>\n",
              "      <td>NaN</td>\n",
              "      <td>NaN</td>\n",
              "      <td>NaN</td>\n",
              "      <td>NaN</td>\n",
              "      <td>NaN</td>\n",
              "      <td>NaN</td>\n",
              "      <td>NaN</td>\n",
              "      <td>NaN</td>\n",
              "      <td>NaN</td>\n",
              "      <td>81.88</td>\n",
              "    </tr>\n",
              "  </tbody>\n",
              "</table>\n",
              "<p>209 rows × 34 columns</p>\n",
              "</div>"
            ],
            "text/plain": [
              "      iso_code      continent  ... hospital_beds_per_thousand life_expectancy\n",
              "25256      USA  North America  ...                       2.77           78.86\n",
              "3597       BRA  South America  ...                       2.20           75.88\n",
              "20042      RUS         Europe  ...                       8.05           72.58\n",
              "11210      IND           Asia  ...                       0.53           69.66\n",
              "25076      GBR         Europe  ...                       2.54           81.32\n",
              "...        ...            ...  ...                        ...             ...\n",
              "21161      SYC         Africa  ...                       3.60           73.40\n",
              "18777      PNG        Oceania  ...                        NaN           64.50\n",
              "3690       VGB  North America  ...                        NaN           79.07\n",
              "3222       BES  North America  ...                        NaN           77.79\n",
              "749        AIA  North America  ...                        NaN           81.88\n",
              "\n",
              "[209 rows x 34 columns]"
            ]
          },
          "metadata": {
            "tags": []
          },
          "execution_count": 83
        }
      ]
    },
    {
      "cell_type": "markdown",
      "metadata": {
        "id": "5FeD6YNRlk51",
        "colab_type": "text"
      },
      "source": [
        "Faremos a mesma coisa com a coluna `total_deaths`, para identificarmos o país com o maior número de mortes pelo COVID-19."
      ]
    },
    {
      "cell_type": "code",
      "metadata": {
        "id": "r1FdLfbuB3_b",
        "colab_type": "code",
        "colab": {
          "base_uri": "https://localhost:8080/",
          "height": 643
        },
        "outputId": "cbf63643-b8e5-496e-8818-32b95954092a"
      },
      "source": [
        "# país com o maior número de mortes\n",
        "df.loc[df.date == \"2020-06-24\"].sort_values(by=\"total_deaths\", ascending=False)[1:]"
      ],
      "execution_count": 84,
      "outputs": [
        {
          "output_type": "execute_result",
          "data": {
            "text/html": [
              "<div>\n",
              "<style scoped>\n",
              "    .dataframe tbody tr th:only-of-type {\n",
              "        vertical-align: middle;\n",
              "    }\n",
              "\n",
              "    .dataframe tbody tr th {\n",
              "        vertical-align: top;\n",
              "    }\n",
              "\n",
              "    .dataframe thead th {\n",
              "        text-align: right;\n",
              "    }\n",
              "</style>\n",
              "<table border=\"1\" class=\"dataframe\">\n",
              "  <thead>\n",
              "    <tr style=\"text-align: right;\">\n",
              "      <th></th>\n",
              "      <th>iso_code</th>\n",
              "      <th>continent</th>\n",
              "      <th>location</th>\n",
              "      <th>date</th>\n",
              "      <th>total_cases</th>\n",
              "      <th>new_cases</th>\n",
              "      <th>total_deaths</th>\n",
              "      <th>new_deaths</th>\n",
              "      <th>total_cases_per_million</th>\n",
              "      <th>new_cases_per_million</th>\n",
              "      <th>total_deaths_per_million</th>\n",
              "      <th>new_deaths_per_million</th>\n",
              "      <th>total_tests</th>\n",
              "      <th>new_tests</th>\n",
              "      <th>total_tests_per_thousand</th>\n",
              "      <th>new_tests_per_thousand</th>\n",
              "      <th>new_tests_smoothed</th>\n",
              "      <th>new_tests_smoothed_per_thousand</th>\n",
              "      <th>tests_units</th>\n",
              "      <th>stringency_index</th>\n",
              "      <th>population</th>\n",
              "      <th>population_density</th>\n",
              "      <th>median_age</th>\n",
              "      <th>aged_65_older</th>\n",
              "      <th>aged_70_older</th>\n",
              "      <th>gdp_per_capita</th>\n",
              "      <th>extreme_poverty</th>\n",
              "      <th>cvd_death_rate</th>\n",
              "      <th>diabetes_prevalence</th>\n",
              "      <th>female_smokers</th>\n",
              "      <th>male_smokers</th>\n",
              "      <th>handwashing_facilities</th>\n",
              "      <th>hospital_beds_per_thousand</th>\n",
              "      <th>life_expectancy</th>\n",
              "    </tr>\n",
              "  </thead>\n",
              "  <tbody>\n",
              "    <tr>\n",
              "      <th>25256</th>\n",
              "      <td>USA</td>\n",
              "      <td>North America</td>\n",
              "      <td>United States</td>\n",
              "      <td>2020-06-24</td>\n",
              "      <td>2347022.0</td>\n",
              "      <td>34720.0</td>\n",
              "      <td>121228.0</td>\n",
              "      <td>826.0</td>\n",
              "      <td>7090.644</td>\n",
              "      <td>104.893</td>\n",
              "      <td>366.245</td>\n",
              "      <td>2.495</td>\n",
              "      <td>28570233.0</td>\n",
              "      <td>512428.0</td>\n",
              "      <td>86.314</td>\n",
              "      <td>1.548</td>\n",
              "      <td>520898.0</td>\n",
              "      <td>1.574</td>\n",
              "      <td>units unclear</td>\n",
              "      <td>68.98</td>\n",
              "      <td>331002647.0</td>\n",
              "      <td>35.608</td>\n",
              "      <td>38.3</td>\n",
              "      <td>15.413</td>\n",
              "      <td>9.732</td>\n",
              "      <td>54225.446</td>\n",
              "      <td>1.2</td>\n",
              "      <td>151.089</td>\n",
              "      <td>10.79</td>\n",
              "      <td>19.1</td>\n",
              "      <td>24.6</td>\n",
              "      <td>NaN</td>\n",
              "      <td>2.77</td>\n",
              "      <td>78.86</td>\n",
              "    </tr>\n",
              "    <tr>\n",
              "      <th>3597</th>\n",
              "      <td>BRA</td>\n",
              "      <td>South America</td>\n",
              "      <td>Brazil</td>\n",
              "      <td>2020-06-24</td>\n",
              "      <td>1145906.0</td>\n",
              "      <td>39436.0</td>\n",
              "      <td>52645.0</td>\n",
              "      <td>1374.0</td>\n",
              "      <td>5390.992</td>\n",
              "      <td>185.529</td>\n",
              "      <td>247.672</td>\n",
              "      <td>6.464</td>\n",
              "      <td>NaN</td>\n",
              "      <td>NaN</td>\n",
              "      <td>NaN</td>\n",
              "      <td>NaN</td>\n",
              "      <td>NaN</td>\n",
              "      <td>NaN</td>\n",
              "      <td>NaN</td>\n",
              "      <td>NaN</td>\n",
              "      <td>212559409.0</td>\n",
              "      <td>25.040</td>\n",
              "      <td>33.5</td>\n",
              "      <td>8.552</td>\n",
              "      <td>5.060</td>\n",
              "      <td>14103.452</td>\n",
              "      <td>3.4</td>\n",
              "      <td>177.961</td>\n",
              "      <td>8.11</td>\n",
              "      <td>10.1</td>\n",
              "      <td>17.9</td>\n",
              "      <td>NaN</td>\n",
              "      <td>2.20</td>\n",
              "      <td>75.88</td>\n",
              "    </tr>\n",
              "    <tr>\n",
              "      <th>25076</th>\n",
              "      <td>GBR</td>\n",
              "      <td>Europe</td>\n",
              "      <td>United Kingdom</td>\n",
              "      <td>2020-06-24</td>\n",
              "      <td>306210.0</td>\n",
              "      <td>921.0</td>\n",
              "      <td>42927.0</td>\n",
              "      <td>280.0</td>\n",
              "      <td>4510.650</td>\n",
              "      <td>13.567</td>\n",
              "      <td>632.339</td>\n",
              "      <td>4.125</td>\n",
              "      <td>4537055.0</td>\n",
              "      <td>76026.0</td>\n",
              "      <td>66.833</td>\n",
              "      <td>1.120</td>\n",
              "      <td>62391.0</td>\n",
              "      <td>0.919</td>\n",
              "      <td>tests performed</td>\n",
              "      <td>NaN</td>\n",
              "      <td>67886004.0</td>\n",
              "      <td>272.898</td>\n",
              "      <td>40.8</td>\n",
              "      <td>18.517</td>\n",
              "      <td>12.527</td>\n",
              "      <td>39753.244</td>\n",
              "      <td>0.2</td>\n",
              "      <td>122.137</td>\n",
              "      <td>4.28</td>\n",
              "      <td>20.0</td>\n",
              "      <td>24.7</td>\n",
              "      <td>NaN</td>\n",
              "      <td>2.54</td>\n",
              "      <td>81.32</td>\n",
              "    </tr>\n",
              "    <tr>\n",
              "      <th>12379</th>\n",
              "      <td>ITA</td>\n",
              "      <td>Europe</td>\n",
              "      <td>Italy</td>\n",
              "      <td>2020-06-24</td>\n",
              "      <td>238833.0</td>\n",
              "      <td>113.0</td>\n",
              "      <td>34675.0</td>\n",
              "      <td>18.0</td>\n",
              "      <td>3950.145</td>\n",
              "      <td>1.869</td>\n",
              "      <td>573.502</td>\n",
              "      <td>0.298</td>\n",
              "      <td>5107093.0</td>\n",
              "      <td>53266.0</td>\n",
              "      <td>84.468</td>\n",
              "      <td>0.881</td>\n",
              "      <td>47669.0</td>\n",
              "      <td>0.788</td>\n",
              "      <td>tests performed</td>\n",
              "      <td>NaN</td>\n",
              "      <td>60461828.0</td>\n",
              "      <td>205.859</td>\n",
              "      <td>47.9</td>\n",
              "      <td>23.021</td>\n",
              "      <td>16.240</td>\n",
              "      <td>35220.084</td>\n",
              "      <td>2.0</td>\n",
              "      <td>113.151</td>\n",
              "      <td>4.78</td>\n",
              "      <td>19.8</td>\n",
              "      <td>27.8</td>\n",
              "      <td>NaN</td>\n",
              "      <td>3.18</td>\n",
              "      <td>83.51</td>\n",
              "    </tr>\n",
              "    <tr>\n",
              "      <th>8665</th>\n",
              "      <td>FRA</td>\n",
              "      <td>Europe</td>\n",
              "      <td>France</td>\n",
              "      <td>2020-06-24</td>\n",
              "      <td>161267.0</td>\n",
              "      <td>517.0</td>\n",
              "      <td>29720.0</td>\n",
              "      <td>57.0</td>\n",
              "      <td>2470.635</td>\n",
              "      <td>7.921</td>\n",
              "      <td>455.315</td>\n",
              "      <td>0.873</td>\n",
              "      <td>NaN</td>\n",
              "      <td>NaN</td>\n",
              "      <td>NaN</td>\n",
              "      <td>NaN</td>\n",
              "      <td>NaN</td>\n",
              "      <td>NaN</td>\n",
              "      <td>NaN</td>\n",
              "      <td>65.74</td>\n",
              "      <td>65273512.0</td>\n",
              "      <td>122.578</td>\n",
              "      <td>42.0</td>\n",
              "      <td>19.718</td>\n",
              "      <td>13.079</td>\n",
              "      <td>38605.671</td>\n",
              "      <td>NaN</td>\n",
              "      <td>86.060</td>\n",
              "      <td>4.77</td>\n",
              "      <td>30.1</td>\n",
              "      <td>35.6</td>\n",
              "      <td>NaN</td>\n",
              "      <td>5.98</td>\n",
              "      <td>82.66</td>\n",
              "    </tr>\n",
              "    <tr>\n",
              "      <th>...</th>\n",
              "      <td>...</td>\n",
              "      <td>...</td>\n",
              "      <td>...</td>\n",
              "      <td>...</td>\n",
              "      <td>...</td>\n",
              "      <td>...</td>\n",
              "      <td>...</td>\n",
              "      <td>...</td>\n",
              "      <td>...</td>\n",
              "      <td>...</td>\n",
              "      <td>...</td>\n",
              "      <td>...</td>\n",
              "      <td>...</td>\n",
              "      <td>...</td>\n",
              "      <td>...</td>\n",
              "      <td>...</td>\n",
              "      <td>...</td>\n",
              "      <td>...</td>\n",
              "      <td>...</td>\n",
              "      <td>...</td>\n",
              "      <td>...</td>\n",
              "      <td>...</td>\n",
              "      <td>...</td>\n",
              "      <td>...</td>\n",
              "      <td>...</td>\n",
              "      <td>...</td>\n",
              "      <td>...</td>\n",
              "      <td>...</td>\n",
              "      <td>...</td>\n",
              "      <td>...</td>\n",
              "      <td>...</td>\n",
              "      <td>...</td>\n",
              "      <td>...</td>\n",
              "      <td>...</td>\n",
              "    </tr>\n",
              "    <tr>\n",
              "      <th>9914</th>\n",
              "      <td>GRD</td>\n",
              "      <td>North America</td>\n",
              "      <td>Grenada</td>\n",
              "      <td>2020-06-24</td>\n",
              "      <td>23.0</td>\n",
              "      <td>0.0</td>\n",
              "      <td>0.0</td>\n",
              "      <td>0.0</td>\n",
              "      <td>204.410</td>\n",
              "      <td>0.000</td>\n",
              "      <td>0.000</td>\n",
              "      <td>0.000</td>\n",
              "      <td>NaN</td>\n",
              "      <td>NaN</td>\n",
              "      <td>NaN</td>\n",
              "      <td>NaN</td>\n",
              "      <td>NaN</td>\n",
              "      <td>NaN</td>\n",
              "      <td>NaN</td>\n",
              "      <td>NaN</td>\n",
              "      <td>112519.0</td>\n",
              "      <td>317.132</td>\n",
              "      <td>29.4</td>\n",
              "      <td>7.304</td>\n",
              "      <td>5.021</td>\n",
              "      <td>13593.877</td>\n",
              "      <td>NaN</td>\n",
              "      <td>243.964</td>\n",
              "      <td>10.71</td>\n",
              "      <td>NaN</td>\n",
              "      <td>NaN</td>\n",
              "      <td>NaN</td>\n",
              "      <td>3.70</td>\n",
              "      <td>72.40</td>\n",
              "    </tr>\n",
              "    <tr>\n",
              "      <th>16191</th>\n",
              "      <td>MNG</td>\n",
              "      <td>Asia</td>\n",
              "      <td>Mongolia</td>\n",
              "      <td>2020-06-24</td>\n",
              "      <td>215.0</td>\n",
              "      <td>0.0</td>\n",
              "      <td>0.0</td>\n",
              "      <td>0.0</td>\n",
              "      <td>65.583</td>\n",
              "      <td>0.000</td>\n",
              "      <td>0.000</td>\n",
              "      <td>0.000</td>\n",
              "      <td>NaN</td>\n",
              "      <td>NaN</td>\n",
              "      <td>NaN</td>\n",
              "      <td>NaN</td>\n",
              "      <td>NaN</td>\n",
              "      <td>NaN</td>\n",
              "      <td>NaN</td>\n",
              "      <td>62.96</td>\n",
              "      <td>3278292.0</td>\n",
              "      <td>1.980</td>\n",
              "      <td>28.6</td>\n",
              "      <td>4.031</td>\n",
              "      <td>2.421</td>\n",
              "      <td>11840.846</td>\n",
              "      <td>0.5</td>\n",
              "      <td>460.043</td>\n",
              "      <td>4.82</td>\n",
              "      <td>5.5</td>\n",
              "      <td>46.5</td>\n",
              "      <td>71.180</td>\n",
              "      <td>7.00</td>\n",
              "      <td>69.87</td>\n",
              "    </tr>\n",
              "    <tr>\n",
              "      <th>4275</th>\n",
              "      <td>KHM</td>\n",
              "      <td>Asia</td>\n",
              "      <td>Cambodia</td>\n",
              "      <td>2020-06-24</td>\n",
              "      <td>130.0</td>\n",
              "      <td>0.0</td>\n",
              "      <td>0.0</td>\n",
              "      <td>0.0</td>\n",
              "      <td>7.776</td>\n",
              "      <td>0.000</td>\n",
              "      <td>0.000</td>\n",
              "      <td>0.000</td>\n",
              "      <td>NaN</td>\n",
              "      <td>NaN</td>\n",
              "      <td>NaN</td>\n",
              "      <td>NaN</td>\n",
              "      <td>NaN</td>\n",
              "      <td>NaN</td>\n",
              "      <td>NaN</td>\n",
              "      <td>NaN</td>\n",
              "      <td>16718971.0</td>\n",
              "      <td>90.672</td>\n",
              "      <td>25.6</td>\n",
              "      <td>4.412</td>\n",
              "      <td>2.385</td>\n",
              "      <td>3645.070</td>\n",
              "      <td>NaN</td>\n",
              "      <td>270.892</td>\n",
              "      <td>4.00</td>\n",
              "      <td>2.0</td>\n",
              "      <td>33.7</td>\n",
              "      <td>66.229</td>\n",
              "      <td>0.80</td>\n",
              "      <td>69.82</td>\n",
              "    </tr>\n",
              "    <tr>\n",
              "      <th>20442</th>\n",
              "      <td>VCT</td>\n",
              "      <td>North America</td>\n",
              "      <td>Saint Vincent and the Grenadines</td>\n",
              "      <td>2020-06-24</td>\n",
              "      <td>29.0</td>\n",
              "      <td>0.0</td>\n",
              "      <td>0.0</td>\n",
              "      <td>0.0</td>\n",
              "      <td>261.386</td>\n",
              "      <td>0.000</td>\n",
              "      <td>0.000</td>\n",
              "      <td>0.000</td>\n",
              "      <td>NaN</td>\n",
              "      <td>NaN</td>\n",
              "      <td>NaN</td>\n",
              "      <td>NaN</td>\n",
              "      <td>NaN</td>\n",
              "      <td>NaN</td>\n",
              "      <td>NaN</td>\n",
              "      <td>NaN</td>\n",
              "      <td>110947.0</td>\n",
              "      <td>281.787</td>\n",
              "      <td>31.8</td>\n",
              "      <td>7.724</td>\n",
              "      <td>4.832</td>\n",
              "      <td>10727.146</td>\n",
              "      <td>NaN</td>\n",
              "      <td>252.675</td>\n",
              "      <td>11.62</td>\n",
              "      <td>NaN</td>\n",
              "      <td>NaN</td>\n",
              "      <td>NaN</td>\n",
              "      <td>2.60</td>\n",
              "      <td>72.53</td>\n",
              "    </tr>\n",
              "    <tr>\n",
              "      <th>20346</th>\n",
              "      <td>LCA</td>\n",
              "      <td>North America</td>\n",
              "      <td>Saint Lucia</td>\n",
              "      <td>2020-06-24</td>\n",
              "      <td>19.0</td>\n",
              "      <td>0.0</td>\n",
              "      <td>0.0</td>\n",
              "      <td>0.0</td>\n",
              "      <td>103.469</td>\n",
              "      <td>0.000</td>\n",
              "      <td>0.000</td>\n",
              "      <td>0.000</td>\n",
              "      <td>NaN</td>\n",
              "      <td>NaN</td>\n",
              "      <td>NaN</td>\n",
              "      <td>NaN</td>\n",
              "      <td>NaN</td>\n",
              "      <td>NaN</td>\n",
              "      <td>NaN</td>\n",
              "      <td>NaN</td>\n",
              "      <td>183629.0</td>\n",
              "      <td>293.187</td>\n",
              "      <td>34.9</td>\n",
              "      <td>9.721</td>\n",
              "      <td>6.405</td>\n",
              "      <td>12951.839</td>\n",
              "      <td>NaN</td>\n",
              "      <td>204.620</td>\n",
              "      <td>11.62</td>\n",
              "      <td>NaN</td>\n",
              "      <td>NaN</td>\n",
              "      <td>87.202</td>\n",
              "      <td>1.30</td>\n",
              "      <td>76.20</td>\n",
              "    </tr>\n",
              "  </tbody>\n",
              "</table>\n",
              "<p>209 rows × 34 columns</p>\n",
              "</div>"
            ],
            "text/plain": [
              "      iso_code      continent  ... hospital_beds_per_thousand life_expectancy\n",
              "25256      USA  North America  ...                       2.77           78.86\n",
              "3597       BRA  South America  ...                       2.20           75.88\n",
              "25076      GBR         Europe  ...                       2.54           81.32\n",
              "12379      ITA         Europe  ...                       3.18           83.51\n",
              "8665       FRA         Europe  ...                       5.98           82.66\n",
              "...        ...            ...  ...                        ...             ...\n",
              "9914       GRD  North America  ...                       3.70           72.40\n",
              "16191      MNG           Asia  ...                       7.00           69.87\n",
              "4275       KHM           Asia  ...                       0.80           69.82\n",
              "20442      VCT  North America  ...                       2.60           72.53\n",
              "20346      LCA  North America  ...                       1.30           76.20\n",
              "\n",
              "[209 rows x 34 columns]"
            ]
          },
          "metadata": {
            "tags": []
          },
          "execution_count": 84
        }
      ]
    },
    {
      "cell_type": "markdown",
      "metadata": {
        "id": "yd1zQQN_CMp1",
        "colab_type": "text"
      },
      "source": [
        "O país liderando o ranking é os EUA, com um total de 2 milhões 347 mil e 22 casos confirmados e 121 mil e 228 mortos decorrentes do novo coronavírus."
      ]
    },
    {
      "cell_type": "markdown",
      "metadata": {
        "id": "67rvl1AeCvyq",
        "colab_type": "text"
      },
      "source": [
        "É importante sabermos quais são os países que lideram o nefasto ranking de número de mortos pelo novo coronavírus.\n",
        "\n",
        "Dessa forma, plotaremos um gráfico de barras para visualizarmos quais países são esses e compararmos o número de óbitos entre eles."
      ]
    },
    {
      "cell_type": "code",
      "metadata": {
        "id": "LNwQ8NX1DNQe",
        "colab_type": "code",
        "colab": {
          "base_uri": "https://localhost:8080/",
          "height": 485
        },
        "outputId": "a60ffa9f-3dfb-4db4-a0fd-1043562e82d7"
      },
      "source": [
        "# plotar gráfico de barras dos 5 países com mais mortes\n",
        "df_deaths = df.loc[df.date == '2020-06-24', ['location', 'total_deaths']].sort_values(by=\"total_deaths\", ascending=False)[1:6]\n",
        "fig, ax = plt.subplots(figsize=(10,6))\n",
        "df_deaths.plot('location', 'total_deaths', kind=\"bar\", color=\"red\", edgecolor=\"black\", ax=ax)\n",
        "ax.set_title(\"5 Países com Maior Número de Mortes pelo COVID-19\", fontsize=20)\n",
        "ax.set_xlabel(\"País\", fontsize=16)\n",
        "ax.set_ylabel(\"Total de Mortes\", fontsize=16)\n",
        "ax.legend([\"Total de Mortos\"])\n",
        "\n",
        "plt.show()"
      ],
      "execution_count": 91,
      "outputs": [
        {
          "output_type": "display_data",
          "data": {
            "image/png": "[encoded data removed]",
            "text/plain": [
              "<Figure size 720x432 with 1 Axes>"
            ]
          },
          "metadata": {
            "tags": [],
            "needs_background": "light"
          }
        }
      ]
    },
    {
      "cell_type": "markdown",
      "metadata": {
        "id": "sd_uwfXExgNX",
        "colab_type": "text"
      },
      "source": [
        "Os 5 países com o maior número de mortes em decorrência da COVID-19 são os EUA, Reino Unido, Itália, França e, para nossa infelicidade, o Brasil.\n",
        "\n",
        "Vemos que os EUA lideram o rank com uma margem ampla, posto ter o dobro do número de óbitos em relação ao segundo colocado.\n",
        "\n",
        "Ocorre que esses países são bem populosos e, consequentemente, terão mais pessoas infectadas e mortas pela doença. Uma outra análise possível é identificarmos quais são os países que possuem o maior número de casos e o maior número de mortes por milhão de habitantes.\n",
        "\n"
      ]
    },
    {
      "cell_type": "code",
      "metadata": {
        "id": "vcjaXYfqvXao",
        "colab_type": "code",
        "colab": {
          "base_uri": "https://localhost:8080/",
          "height": 441
        },
        "outputId": "dc34935a-410d-4854-e319-fff3baf98585"
      },
      "source": [
        "# gráfico dos 5 países com maior número de infectados por milhão de habitantes\n",
        "df1 = df.loc[df.date == '2020-06-24', ['location', 'total_cases_per_million']].sort_values(by='total_cases_per_million', ascending=False)[1:6]\n",
        "fig, ax = plt.subplots(figsize=(10,6))\n",
        "df1.plot('location', 'total_cases_per_million', kind=\"bar\", edgecolor=\"black\", ax=ax)\n",
        "ax.set_title(\"5 países com Mais casos por Milhão de Habitantes\", fontsize=20)\n",
        "ax.set_xlabel(\"Países\", fontsize=16)\n",
        "ax.set_ylabel(\"Casos por Milhão de Habitantes\", fontsize=16)\n",
        "ax.legend([\"Total de Casos por Milhão de Habitantes\"])\n",
        "plt.tight_layout()"
      ],
      "execution_count": 92,
      "outputs": [
        {
          "output_type": "display_data",
          "data": {
            "image/png": "[encoded data removed]",
            "text/plain": [
              "<Figure size 720x432 with 1 Axes>"
            ]
          },
          "metadata": {
            "tags": [],
            "needs_background": "light"
          }
        }
      ]
    },
    {
      "cell_type": "markdown",
      "metadata": {
        "id": "nMIcJi7Vwrox",
        "colab_type": "text"
      },
      "source": [
        "Os dois locais com maior número de casos por milhão de habitantes, a República de San Marino e a cidade-estado do Vaticano, estão envoltos pela Itália. Isso revela como a doença se espalhou de forma avassaladora naquele território."
      ]
    },
    {
      "cell_type": "code",
      "metadata": {
        "id": "QDlF0Qg4wFB1",
        "colab_type": "code",
        "colab": {
          "base_uri": "https://localhost:8080/",
          "height": 441
        },
        "outputId": "135da6b5-dba2-4623-d70b-d6231cbf9343"
      },
      "source": [
        "# 5 países com mais mortes por milhão de habitantes\n",
        "df2 = df.loc[df.date == '2020-06-24', ['location', 'total_deaths_per_million']].sort_values(by='total_deaths_per_million', ascending=False)[1:6]\n",
        "fig, ax = plt.subplots(figsize=(10,6))\n",
        "df2.plot('location', 'total_deaths_per_million', kind=\"bar\", color=\"red\", edgecolor=\"black\", ax=ax)\n",
        "ax.set_title(\"5 países com mais mortes por milhão de habitantes\", fontsize=20)\n",
        "ax.set_xlabel(\"Países\", fontsize=16)\n",
        "ax.set_ylabel(\"Mortes por milhão de habitantes\", fontsize=16)\n",
        "ax.legend([\"Total de Mortes por Milhão de Habitantes\"])\n",
        "plt.tight_layout()"
      ],
      "execution_count": 94,
      "outputs": [
        {
          "output_type": "display_data",
          "data": {
            "image/png": "[encoded data removed]",
            "text/plain": [
              "<Figure size 720x432 with 1 Axes>"
            ]
          },
          "metadata": {
            "tags": [],
            "needs_background": "light"
          }
        }
      ]
    },
    {
      "cell_type": "markdown",
      "metadata": {
        "id": "3AF8UNiUwiH9",
        "colab_type": "text"
      },
      "source": [
        "Os 5 países com maior número de mortes ocasionadas pelo COVID-19 por milhão de habitantes estão todos localizados na Europa. A Bélgica lidera esse infeliz rank, com mais de 800 mortes por milhão de habitantes."
      ]
    },
    {
      "cell_type": "markdown",
      "metadata": {
        "id": "bIR3TRG8x0_N",
        "colab_type": "text"
      },
      "source": [
        "\n",
        "Agora vamos analisar o crescimento das mortes decorrentes do COVID-19 em todo o mundo. Para isso, plotaremos um gráfico de linha para facilitar a visualização da contaminação ao longo do tempo."
      ]
    },
    {
      "cell_type": "code",
      "metadata": {
        "id": "VO7bbGTV1liv",
        "colab_type": "code",
        "colab": {
          "base_uri": "https://localhost:8080/",
          "height": 265
        },
        "outputId": "0f42c803-7a5d-4224-c5d3-dde1901646ae"
      },
      "source": [
        "df.loc[df.location == \"World\", \"total_deaths\"].reset_index(drop=True).plot();"
      ],
      "execution_count": null,
      "outputs": [
        {
          "output_type": "display_data",
          "data": {
            "image/png": "[encoded data removed]",
            "text/plain": [
              "<Figure size 432x288 with 1 Axes>"
            ]
          },
          "metadata": {
            "tags": [],
            "needs_background": "light"
          }
        }
      ]
    },
    {
      "cell_type": "markdown",
      "metadata": {
        "id": "nfTNdW0dwcuA",
        "colab_type": "text"
      },
      "source": [
        "Através do gráfico plotado acima, percebemos a rápida ascenção do número total de contaminações no mundo ao longo dos meses. Passados 175 dias desde a primeira morte, o mundo observa a triste marca de quase meio milhão de mortos."
      ]
    },
    {
      "cell_type": "markdown",
      "metadata": {
        "id": "SViA5VZ7DYLA",
        "colab_type": "text"
      },
      "source": [
        "## Análise Exploratória para o Brasil\n",
        "\n",
        "Como vimos acima, o Brasil encontra-se na malfadada 2ª colocação tanto em relação ao número de infectados pelo novo coronavírus quanto na quantidade de mortos em decorrência da doença. \n",
        "\n",
        "Torna-se premente, portanto, tentar entendermos, através da análise dos dados do país, como o vírus vem se comportando.\n",
        "\n",
        "Começaremos criando uma cópia do DataFrame cuja varíavel `location` abarque somente o Brasil.\n"
      ]
    },
    {
      "cell_type": "code",
      "metadata": {
        "id": "xqYBgz3heFnH",
        "colab_type": "code",
        "colab": {}
      },
      "source": [
        "# cópia do DataFrame\n",
        "df_brasil = df.loc[df.location == \"Brazil\"].copy()"
      ],
      "execution_count": 115,
      "outputs": []
    },
    {
      "cell_type": "markdown",
      "metadata": {
        "id": "WW42lMvWos1c",
        "colab_type": "text"
      },
      "source": [
        "Em seguida iremos identificar o dia exato em que foi registrada a primeira contaminação pelo novo coronavírus."
      ]
    },
    {
      "cell_type": "code",
      "metadata": {
        "id": "ix0FpP_F5ewL",
        "colab_type": "code",
        "colab": {
          "base_uri": "https://localhost:8080/",
          "height": 117
        },
        "outputId": "c48916d6-747d-4834-9b75-6db8e4cf1cef"
      },
      "source": [
        "# data de registro do primeiro caso\n",
        "df_brasil.loc[df_brasil[\"new_cases\"] > 0.0].head(1)"
      ],
      "execution_count": null,
      "outputs": [
        {
          "output_type": "execute_result",
          "data": {
            "text/html": [
              "<div>\n",
              "<style scoped>\n",
              "    .dataframe tbody tr th:only-of-type {\n",
              "        vertical-align: middle;\n",
              "    }\n",
              "\n",
              "    .dataframe tbody tr th {\n",
              "        vertical-align: top;\n",
              "    }\n",
              "\n",
              "    .dataframe thead th {\n",
              "        text-align: right;\n",
              "    }\n",
              "</style>\n",
              "<table border=\"1\" class=\"dataframe\">\n",
              "  <thead>\n",
              "    <tr style=\"text-align: right;\">\n",
              "      <th></th>\n",
              "      <th>iso_code</th>\n",
              "      <th>continent</th>\n",
              "      <th>location</th>\n",
              "      <th>date</th>\n",
              "      <th>total_cases</th>\n",
              "      <th>new_cases</th>\n",
              "      <th>total_deaths</th>\n",
              "      <th>new_deaths</th>\n",
              "      <th>total_cases_per_million</th>\n",
              "      <th>new_cases_per_million</th>\n",
              "      <th>total_deaths_per_million</th>\n",
              "      <th>new_deaths_per_million</th>\n",
              "      <th>total_tests</th>\n",
              "      <th>new_tests</th>\n",
              "      <th>total_tests_per_thousand</th>\n",
              "      <th>new_tests_per_thousand</th>\n",
              "      <th>new_tests_smoothed</th>\n",
              "      <th>new_tests_smoothed_per_thousand</th>\n",
              "      <th>tests_units</th>\n",
              "      <th>stringency_index</th>\n",
              "      <th>population</th>\n",
              "      <th>population_density</th>\n",
              "      <th>median_age</th>\n",
              "      <th>aged_65_older</th>\n",
              "      <th>aged_70_older</th>\n",
              "      <th>gdp_per_capita</th>\n",
              "      <th>extreme_poverty</th>\n",
              "      <th>cvd_death_rate</th>\n",
              "      <th>diabetes_prevalence</th>\n",
              "      <th>female_smokers</th>\n",
              "      <th>male_smokers</th>\n",
              "      <th>handwashing_facilities</th>\n",
              "      <th>hospital_beds_per_thousand</th>\n",
              "      <th>life_expectancy</th>\n",
              "      <th>year_month</th>\n",
              "    </tr>\n",
              "  </thead>\n",
              "  <tbody>\n",
              "    <tr>\n",
              "      <th>3451</th>\n",
              "      <td>BRA</td>\n",
              "      <td>South America</td>\n",
              "      <td>Brazil</td>\n",
              "      <td>2020-02-26</td>\n",
              "      <td>1.0</td>\n",
              "      <td>1.0</td>\n",
              "      <td>0.0</td>\n",
              "      <td>0.0</td>\n",
              "      <td>0.005</td>\n",
              "      <td>0.005</td>\n",
              "      <td>0.0</td>\n",
              "      <td>0.0</td>\n",
              "      <td>NaN</td>\n",
              "      <td>NaN</td>\n",
              "      <td>NaN</td>\n",
              "      <td>NaN</td>\n",
              "      <td>NaN</td>\n",
              "      <td>NaN</td>\n",
              "      <td>NaN</td>\n",
              "      <td>5.56</td>\n",
              "      <td>212559409.0</td>\n",
              "      <td>25.04</td>\n",
              "      <td>33.5</td>\n",
              "      <td>8.552</td>\n",
              "      <td>5.06</td>\n",
              "      <td>14103.452</td>\n",
              "      <td>3.4</td>\n",
              "      <td>177.961</td>\n",
              "      <td>8.11</td>\n",
              "      <td>10.1</td>\n",
              "      <td>17.9</td>\n",
              "      <td>NaN</td>\n",
              "      <td>2.2</td>\n",
              "      <td>75.88</td>\n",
              "      <td>2020-02</td>\n",
              "    </tr>\n",
              "  </tbody>\n",
              "</table>\n",
              "</div>"
            ],
            "text/plain": [
              "     iso_code      continent  ... life_expectancy year_month\n",
              "3451      BRA  South America  ...           75.88    2020-02\n",
              "\n",
              "[1 rows x 35 columns]"
            ]
          },
          "metadata": {
            "tags": []
          },
          "execution_count": 21
        }
      ]
    },
    {
      "cell_type": "markdown",
      "metadata": {
        "id": "YVL_lvnKo-dG",
        "colab_type": "text"
      },
      "source": [
        "Também precisamos saber quando se deu o registro da primeira morte."
      ]
    },
    {
      "cell_type": "code",
      "metadata": {
        "id": "oDjf-9ebd_2h",
        "colab_type": "code",
        "colab": {
          "base_uri": "https://localhost:8080/",
          "height": 117
        },
        "outputId": "bf5e3b70-2eb9-485c-b1cf-3c3afe2e5761"
      },
      "source": [
        "# data de registro da primeira morte\n",
        "df_brasil.loc[df_brasil[\"new_deaths\"] > 0.0].head(1)"
      ],
      "execution_count": null,
      "outputs": [
        {
          "output_type": "execute_result",
          "data": {
            "text/html": [
              "<div>\n",
              "<style scoped>\n",
              "    .dataframe tbody tr th:only-of-type {\n",
              "        vertical-align: middle;\n",
              "    }\n",
              "\n",
              "    .dataframe tbody tr th {\n",
              "        vertical-align: top;\n",
              "    }\n",
              "\n",
              "    .dataframe thead th {\n",
              "        text-align: right;\n",
              "    }\n",
              "</style>\n",
              "<table border=\"1\" class=\"dataframe\">\n",
              "  <thead>\n",
              "    <tr style=\"text-align: right;\">\n",
              "      <th></th>\n",
              "      <th>iso_code</th>\n",
              "      <th>continent</th>\n",
              "      <th>location</th>\n",
              "      <th>date</th>\n",
              "      <th>total_cases</th>\n",
              "      <th>new_cases</th>\n",
              "      <th>total_deaths</th>\n",
              "      <th>new_deaths</th>\n",
              "      <th>total_cases_per_million</th>\n",
              "      <th>new_cases_per_million</th>\n",
              "      <th>total_deaths_per_million</th>\n",
              "      <th>new_deaths_per_million</th>\n",
              "      <th>total_tests</th>\n",
              "      <th>new_tests</th>\n",
              "      <th>total_tests_per_thousand</th>\n",
              "      <th>new_tests_per_thousand</th>\n",
              "      <th>new_tests_smoothed</th>\n",
              "      <th>new_tests_smoothed_per_thousand</th>\n",
              "      <th>tests_units</th>\n",
              "      <th>stringency_index</th>\n",
              "      <th>population</th>\n",
              "      <th>population_density</th>\n",
              "      <th>median_age</th>\n",
              "      <th>aged_65_older</th>\n",
              "      <th>aged_70_older</th>\n",
              "      <th>gdp_per_capita</th>\n",
              "      <th>extreme_poverty</th>\n",
              "      <th>cvd_death_rate</th>\n",
              "      <th>diabetes_prevalence</th>\n",
              "      <th>female_smokers</th>\n",
              "      <th>male_smokers</th>\n",
              "      <th>handwashing_facilities</th>\n",
              "      <th>hospital_beds_per_thousand</th>\n",
              "      <th>life_expectancy</th>\n",
              "      <th>year_month</th>\n",
              "    </tr>\n",
              "  </thead>\n",
              "  <tbody>\n",
              "    <tr>\n",
              "      <th>3472</th>\n",
              "      <td>BRA</td>\n",
              "      <td>South America</td>\n",
              "      <td>Brazil</td>\n",
              "      <td>2020-03-18</td>\n",
              "      <td>291.0</td>\n",
              "      <td>57.0</td>\n",
              "      <td>1.0</td>\n",
              "      <td>1.0</td>\n",
              "      <td>1.369</td>\n",
              "      <td>0.268</td>\n",
              "      <td>0.005</td>\n",
              "      <td>0.005</td>\n",
              "      <td>NaN</td>\n",
              "      <td>NaN</td>\n",
              "      <td>NaN</td>\n",
              "      <td>NaN</td>\n",
              "      <td>NaN</td>\n",
              "      <td>NaN</td>\n",
              "      <td>NaN</td>\n",
              "      <td>60.65</td>\n",
              "      <td>212559409.0</td>\n",
              "      <td>25.04</td>\n",
              "      <td>33.5</td>\n",
              "      <td>8.552</td>\n",
              "      <td>5.06</td>\n",
              "      <td>14103.452</td>\n",
              "      <td>3.4</td>\n",
              "      <td>177.961</td>\n",
              "      <td>8.11</td>\n",
              "      <td>10.1</td>\n",
              "      <td>17.9</td>\n",
              "      <td>NaN</td>\n",
              "      <td>2.2</td>\n",
              "      <td>75.88</td>\n",
              "      <td>2020-03</td>\n",
              "    </tr>\n",
              "  </tbody>\n",
              "</table>\n",
              "</div>"
            ],
            "text/plain": [
              "     iso_code      continent  ... life_expectancy year_month\n",
              "3472      BRA  South America  ...           75.88    2020-03\n",
              "\n",
              "[1 rows x 35 columns]"
            ]
          },
          "metadata": {
            "tags": []
          },
          "execution_count": 19
        }
      ]
    },
    {
      "cell_type": "markdown",
      "metadata": {
        "id": "fSOsOntDpHlA",
        "colab_type": "text"
      },
      "source": [
        "Identificadas as datas de registro do primeiro caso e da primeira morte, podemos calcular qual foi o interregno de dias entre essas duas datas.\n",
        "\n",
        "Para isso, basta subtrair um data pela outra utilizando o pacote `datetime`."
      ]
    },
    {
      "cell_type": "code",
      "metadata": {
        "id": "tb7dH77i5tgf",
        "colab_type": "code",
        "colab": {
          "base_uri": "https://localhost:8080/",
          "height": 35
        },
        "outputId": "a68be17f-4fb6-4d7b-cc4b-072386ba0ab9"
      },
      "source": [
        "# ver a quantidade de dias entre o primeiro caso e a primeira morte\n",
        "from datetime import date\n",
        "data = df_brasil.date.loc[3472] - df_brasil.date.loc[3451]\n",
        "print(\"A quantidade de dias entre o primeiro caso registrado e a primeira morte no Brasil foi de\", data.days, \"dias\")"
      ],
      "execution_count": null,
      "outputs": [
        {
          "output_type": "stream",
          "text": [
            "A quantidade de dias entre o primeiro caso registrado e a primeira morte no Brasil foi de 21 dias\n"
          ],
          "name": "stdout"
        }
      ]
    },
    {
      "cell_type": "markdown",
      "metadata": {
        "id": "knBPRRfepmUI",
        "colab_type": "text"
      },
      "source": [
        "## Análise Estatística e Gráfica para o Brasil\n",
        "\n",
        "Feita uma pequena análise exploratória, iniciaremos a nossa já conhecida análise estatística e gráfica. \n",
        "\n",
        "Uma forma de se fazer isso é compararmos o total de casos e mortes por milhão de habitantes dos 5 países com o maior número de casos e de mortes, tendo em vista que o Brasil está figurando nesses dois rankings.\n",
        "\n",
        "Como vimos lá em cima, os 5 países com o maior número de casos são os EUA, Brasil, Rússia, Índia e Reino Unido.\n",
        "\n",
        "Vamos ver quantos casos por milhão de habitantes esses países possuem."
      ]
    },
    {
      "cell_type": "code",
      "metadata": {
        "id": "QdctzFP86HwU",
        "colab_type": "code",
        "colab": {
          "base_uri": "https://localhost:8080/",
          "height": 104
        },
        "outputId": "91c77ff9-f3f9-4b6a-c5f8-59c86446de62"
      },
      "source": [
        "# número de casos por milhão\n",
        "print(\"Casos por milhão de habitantes nos EUA:\", df.loc[(df.date == '2020-06-24') & (df.iso_code == 'USA')]['total_cases_per_million'].item())\n",
        "print(\"Casos por milhão de habitantes no Brasil:\", df.loc[(df.date == '2020-06-24') & (df.iso_code == 'BRA')]['total_cases_per_million'].item())\n",
        "print(\"Casos por milhão de habitantes na Rússia:\", df.loc[(df.date == '2020-06-24') & (df.iso_code == 'RUS')]['total_cases_per_million'].item())\n",
        "print(\"Casos por milhão de habitantes no Reino Unido:\", df.loc[(df.date == '2020-06-24') & (df.iso_code == 'GBR')]['total_cases_per_million'].item())\n",
        "print(\"Casos por milhão de habitantes na Índia:\", df.loc[(df.date == '2020-06-24') & (df.iso_code == 'IND')]['total_cases_per_million'].item())"
      ],
      "execution_count": 96,
      "outputs": [
        {
          "output_type": "stream",
          "text": [
            "Casos por milhão de habitantes nos EUA: 7090.644\n",
            "Casos por milhão de habitantes no Brasil: 5390.991999999999\n",
            "Casos por milhão de habitantes na Rússia: 4109.413\n",
            "Casos por milhão de habitantes no Reino Unido: 4510.65\n",
            "Casos por milhão de habitantes na Índia: 330.566\n"
          ],
          "name": "stdout"
        }
      ]
    },
    {
      "cell_type": "markdown",
      "metadata": {
        "id": "4XiOuE9TsPYB",
        "colab_type": "text"
      },
      "source": [
        "Já os 5 países com o maior número de mortes são os Estados Unidos, Reino Unido, Brasil, França e Itália. Vamos ver quantas mortes por milhão esses países possuem."
      ]
    },
    {
      "cell_type": "code",
      "metadata": {
        "id": "p73ZSTXD8kiJ",
        "colab_type": "code",
        "colab": {
          "base_uri": "https://localhost:8080/",
          "height": 104
        },
        "outputId": "13afa402-65f6-492e-ac99-0fb7c489cdc0"
      },
      "source": [
        "# número de mortes por milhão\n",
        "print(\"Mortes por milhão de habitantes no Reino Unido:\", df.loc[(df.date == '2020-06-24') & (df.iso_code == 'GBR')]['total_deaths_per_million'].item())\n",
        "print(\"Mortes por milhão de habitantes nos Estados Unidos:\", df.loc[(df.date == '2020-06-24') & (df.iso_code == 'USA')]['total_deaths_per_million'].item())\n",
        "print(\"Mortes por milhão de habitantes no Brasil:\", df.loc[(df.date == '2020-06-24') & (df.iso_code == 'BRA')]['total_deaths_per_million'].item())\n",
        "print(\"Mortes por milhão de habitantes na França:\", df.loc[(df.date == '2020-06-24') & (df.iso_code == 'FRA')]['total_deaths_per_million'].item())\n",
        "print(\"Mortes por milhão de habitantes na Itália:\", df.loc[(df.date == '2020-06-24') & (df.iso_code == 'ITA')]['total_deaths_per_million'].item())"
      ],
      "execution_count": 26,
      "outputs": [
        {
          "output_type": "stream",
          "text": [
            "Mortes por milhão de habitantes no Reino Unido: 632.339\n",
            "Mortes por milhão de habitantes nos Estados Unidos: 366.245\n",
            "Mortes por milhão de habitantes no Brasil: 247.672\n",
            "Mortes por milhão de habitantes na França: 455.315\n",
            "Mortes por milhão de habitantes na Itália: 573.502\n"
          ],
          "name": "stdout"
        }
      ]
    },
    {
      "cell_type": "markdown",
      "metadata": {
        "id": "pDEY0HX4sxdV",
        "colab_type": "text"
      },
      "source": [
        "Munidos desses dados, construíremos um novo DataFrame cujas variáveis serão somente esses países e seus respectivos números de casos e mortes por milhão. Para os países que não estiverem em um dos rankings, atribuiremos valor 0, posto tais valores não serem relevantes para nossa análise."
      ]
    },
    {
      "cell_type": "code",
      "metadata": {
        "id": "BFiAQhP0-jCI",
        "colab_type": "code",
        "colab": {
          "base_uri": "https://localhost:8080/",
          "height": 202
        },
        "outputId": "d0219558-18f5-4fde-a7af-6b24df8c207c"
      },
      "source": [
        "# criação de um novo DataFrame através do dictionary\n",
        "dados = {\"country\": [\"Brasil\", \"Reino Unido\", \"Estados Unidos\", \"França\", \"Itália\", \"Rússia\", \"Índia\"],\n",
        "         \"cases_millions\": [5390.991999999999, 4510.65, 7090.644, 0, 0, 4109.413, 330.566],\n",
        "         \"deaths_millions\": [247.672, 632.339, 366.245, 455.315, 573.502, 0, 0]}\n",
        "\n",
        "dados = pd.DataFrame(dados)\n",
        "\n",
        "# 5 primeiras entradas do novo dataframe\n",
        "dados.head()"
      ],
      "execution_count": 100,
      "outputs": [
        {
          "output_type": "execute_result",
          "data": {
            "text/html": [
              "<div>\n",
              "<style scoped>\n",
              "    .dataframe tbody tr th:only-of-type {\n",
              "        vertical-align: middle;\n",
              "    }\n",
              "\n",
              "    .dataframe tbody tr th {\n",
              "        vertical-align: top;\n",
              "    }\n",
              "\n",
              "    .dataframe thead th {\n",
              "        text-align: right;\n",
              "    }\n",
              "</style>\n",
              "<table border=\"1\" class=\"dataframe\">\n",
              "  <thead>\n",
              "    <tr style=\"text-align: right;\">\n",
              "      <th></th>\n",
              "      <th>country</th>\n",
              "      <th>cases_millions</th>\n",
              "      <th>deaths_millions</th>\n",
              "    </tr>\n",
              "  </thead>\n",
              "  <tbody>\n",
              "    <tr>\n",
              "      <th>0</th>\n",
              "      <td>Brasil</td>\n",
              "      <td>5390.992</td>\n",
              "      <td>247.672</td>\n",
              "    </tr>\n",
              "    <tr>\n",
              "      <th>1</th>\n",
              "      <td>Reino Unido</td>\n",
              "      <td>4510.650</td>\n",
              "      <td>632.339</td>\n",
              "    </tr>\n",
              "    <tr>\n",
              "      <th>2</th>\n",
              "      <td>Estados Unidos</td>\n",
              "      <td>7090.644</td>\n",
              "      <td>366.245</td>\n",
              "    </tr>\n",
              "    <tr>\n",
              "      <th>3</th>\n",
              "      <td>França</td>\n",
              "      <td>0.000</td>\n",
              "      <td>455.315</td>\n",
              "    </tr>\n",
              "    <tr>\n",
              "      <th>4</th>\n",
              "      <td>Itália</td>\n",
              "      <td>0.000</td>\n",
              "      <td>573.502</td>\n",
              "    </tr>\n",
              "  </tbody>\n",
              "</table>\n",
              "</div>"
            ],
            "text/plain": [
              "          country  cases_millions  deaths_millions\n",
              "0          Brasil        5390.992          247.672\n",
              "1     Reino Unido        4510.650          632.339\n",
              "2  Estados Unidos        7090.644          366.245\n",
              "3          França           0.000          455.315\n",
              "4          Itália           0.000          573.502"
            ]
          },
          "metadata": {
            "tags": []
          },
          "execution_count": 100
        }
      ]
    },
    {
      "cell_type": "markdown",
      "metadata": {
        "id": "A8omhoIKtnIQ",
        "colab_type": "text"
      },
      "source": [
        "Munidos desse novo DataFrame, criaremos dois outros contendo o número de casos e mortes por milhão em ordem decrescente."
      ]
    },
    {
      "cell_type": "code",
      "metadata": {
        "id": "95r4wFPWAQPw",
        "colab_type": "code",
        "colab": {}
      },
      "source": [
        "dados2 = dados.sort_values(by=\"cases_millions\", ascending=False)[0:5]\n",
        "dados3 = dados.sort_values(by=\"deaths_millions\", ascending=False)[0:5]"
      ],
      "execution_count": 105,
      "outputs": []
    },
    {
      "cell_type": "markdown",
      "metadata": {
        "id": "tWhrmBYPtzru",
        "colab_type": "text"
      },
      "source": [
        "Feito isso, conseguiremos plotar o gráfico e compararmos entre os países que possuem mais casos do novo coronavírus quais deles possuem mais casos por milhão de habitantes."
      ]
    },
    {
      "cell_type": "code",
      "metadata": {
        "id": "2k---eS4BC8O",
        "colab_type": "code",
        "colab": {
          "base_uri": "https://localhost:8080/",
          "height": 441
        },
        "outputId": "1cfe8515-46e4-4d0b-e191-2e64c0d03f61"
      },
      "source": [
        "# gráfico de barras dos casos por milhão de habitantes\n",
        "fig, ax = plt.subplots(figsize=(10,6))\n",
        "dados2.plot('country', 'cases_millions', kind=\"bar\", edgecolor=\"black\", color=\"blue\", ax=ax)\n",
        "ax.set_title(\"Casos por milhão dos 5 países com maior número de mortes\", fontsize=20)\n",
        "ax.set_xlabel(\"País\", fontsize=16)\n",
        "ax.set_ylabel(\"Número de Casos por Milhão de Habitantes\")\n",
        "ax.legend([\"Casos por Milhão\"])\n",
        "plt.tight_layout()"
      ],
      "execution_count": 110,
      "outputs": [
        {
          "output_type": "display_data",
          "data": {
            "image/png": "[encoded data removed]",
            "text/plain": [
              "<Figure size 720x432 with 1 Axes>"
            ]
          },
          "metadata": {
            "tags": [],
            "needs_background": "light"
          }
        }
      ]
    },
    {
      "cell_type": "markdown",
      "metadata": {
        "id": "naDfbXEsuzq1",
        "colab_type": "text"
      },
      "source": [
        "Para nossa infelicidade, o Brasil continua na segunda posição quanto ao número de casos por milhão de habitantes.\n",
        "\n",
        "Observamos também que a Índia, por tem uma população de mais de um bilhão de habitantes, revelou um número de casos por milhão acentuadamente baixo em relação aos outros países."
      ]
    },
    {
      "cell_type": "markdown",
      "metadata": {
        "id": "lRasTvETvTSK",
        "colab_type": "text"
      },
      "source": [
        "Agora plotaremos um gráfico, possibilitando a comparação do número de mortes por milhão de habitantes dos 5 países com o maior número de mortes totais decorrentes do COVID-19."
      ]
    },
    {
      "cell_type": "code",
      "metadata": {
        "id": "hyrr9Hj4EDBh",
        "colab_type": "code",
        "colab": {
          "base_uri": "https://localhost:8080/",
          "height": 441
        },
        "outputId": "a77e6c70-7b1f-4455-ebb5-d457f56e48d0"
      },
      "source": [
        "# gráfico de barras do número de mortes por milhão de habitantes\n",
        "fig, ax = plt.subplots(figsize=(10,6))\n",
        "dados3.plot('country', 'deaths_millions', kind=\"bar\", edgecolor=\"black\", color=\"blue\", ax=ax)\n",
        "ax.set_title(\"Mortes por milhão dos 5 países com maior número de mortes\", fontsize=20)\n",
        "ax.set_xlabel(\"País\", fontsize=16)\n",
        "ax.set_ylabel(\"Número de Mortes por Milhão de Habitantes\")\n",
        "ax.legend([\"Mortes por Milhão\"])\n",
        "plt.tight_layout()"
      ],
      "execution_count": 111,
      "outputs": [
        {
          "output_type": "display_data",
          "data": {
            "image/png": "[encoded data removed]",
            "text/plain": [
              "<Figure size 720x432 with 1 Axes>"
            ]
          },
          "metadata": {
            "tags": [],
            "needs_background": "light"
          }
        }
      ]
    },
    {
      "cell_type": "markdown",
      "metadata": {
        "id": "2JnqUlz7vpYx",
        "colab_type": "text"
      },
      "source": [
        "Dessa vez o Brasil figurou na última posição desse ranking, possuindo menos de 300 mortes por milhão de habitantes pelo novo coronavírus."
      ]
    },
    {
      "cell_type": "markdown",
      "metadata": {
        "id": "N3PKJGcev6LH",
        "colab_type": "text"
      },
      "source": [
        "Finalizando a análise, plotaremos um gráfico de linhas para vermos a evolução do total de casos e de mortes do COVID-19 ao longo do tempo no Brasil.\n",
        "\n",
        "Selecionaremos o intervalo de tempo correspondente à data em que se foi indentificado o primeiro caso e a ultima data do nosso *dataset*."
      ]
    },
    {
      "cell_type": "code",
      "metadata": {
        "id": "VB3VHTrSHXCa",
        "colab_type": "code",
        "colab": {
          "base_uri": "https://localhost:8080/",
          "height": 441
        },
        "outputId": "a33998e6-84e0-4536-da5f-f01ef127a029"
      },
      "source": [
        "fig, ax = plt.subplots(nrows=1, ncols=1, figsize=(10,6))\n",
        "df_brasil.loc['2020-02-26':'2020-06-24', 'total_cases'].plot(kind=\"line\", ax=ax)\n",
        "df_brasil.loc['2020-02-26':'2020-06-24', 'total_deaths'].plot(kind=\"line\", ax=ax)\n",
        "ax.set_title(\"Evolução do número de Casos e Mortes no Brasil\", fontsize=20)\n",
        "ax.set_xlabel(\"Mês de 2020\", fontsize=16)\n",
        "ax.set_ylabel(\"Casos/Mortes\", fontsize=16)\n",
        "ax.legend([\"Total de Casos\", \"Total de Mortes\"])\n",
        "plt.tight_layout()"
      ],
      "execution_count": 125,
      "outputs": [
        {
          "output_type": "display_data",
          "data": {
            "image/png": "[encoded data removed]",
            "text/plain": [
              "<Figure size 720x432 with 1 Axes>"
            ]
          },
          "metadata": {
            "tags": [],
            "needs_background": "light"
          }
        }
      ]
    },
    {
      "cell_type": "markdown",
      "metadata": {
        "id": "7dQpOqox0i-8",
        "colab_type": "text"
      },
      "source": [
        "Com esse gráfico depreendemos bem o quão rápida foi a ascenção do número total de casos do novo coronavírus no Brasil.\n",
        "\n",
        "Também fica facilmente observável o crescimento paulatino da quantidade de mortos pelo vírus.\n"
      ]
    },
    {
      "cell_type": "markdown",
      "metadata": {
        "id": "LCsiXvM3BcsO",
        "colab_type": "text"
      },
      "source": [
        "# Conclusão\n",
        "\n",
        "O mundo jamais vivenciou uma situação parecida: quarentena em massa, fechamento de estabelecimentos, proibição de reuniões, *lockdown* de cidades inteiras, entre tantas outras medidas inimaginadas até o ano passado.\n",
        "\n",
        "Certamente o novo coronavírus mudou a vida cotidiana de todos nós radicalmente, mudanças essas que a cada novo dia se enraizam cada vez mais na cultura dos povos e prometem se tornar permanentes.\n",
        "\n",
        "A gravidade da doença se revelou através dos dados analisados: a COVID-19 já contaminou milhões de indivíduos e matou centenas de milhares de pessoas ao redor do globo. Dentre os países com mais contaminados e mais óbitos decorrentes do vírus, o Brasil ocupa o 2º lugar nesse infeliz ranking.\n",
        "\n",
        "Visualizamos como se deu o rápido avanço da doença ao longo de poucos meses, revelando a fácil e rápida propagação do vírus entre indivíduos, aspecto mais preocupante para os cientistas.\n",
        "\n",
        "Ademais, através da comparação gráfica, depreendemos que o Brasil, apesar de se encontrar em 2º lugar no número de mortos, está em 5º na quantidade de óbitos calculados por milhões de habitantes. De qualquer forma, não é uma posição agradável para qualquer país estar.\n",
        "\n",
        "Espero ter contribuído, através desse projeto, para facilitar a compreensão de todos acerca de como vem agindo a doença no Brasil e no mundo, alertando para a gravidade do vírus e dando uma fagulha de esperança: estamos cada vez mais próximos do fim dessa pandemia."
      ]
    }
  ]
}